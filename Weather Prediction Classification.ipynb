{
 "cells": [
  {
   "cell_type": "markdown",
   "metadata": {},
   "source": [
    "## Importing the libraries"
   ]
  },
  {
   "cell_type": "code",
   "execution_count": 93,
   "metadata": {},
   "outputs": [],
   "source": [
    "import pandas as pd\n",
    "import matplotlib.pyplot as plt\n",
    "import seaborn as sns\n",
    "import numpy as np\n",
    "from sklearn.metrics import confusion_matrix,accuracy_score"
   ]
  },
  {
   "cell_type": "markdown",
   "metadata": {},
   "source": [
    "## Importing csv file"
   ]
  },
  {
   "cell_type": "code",
   "execution_count": 136,
   "metadata": {},
   "outputs": [
    {
     "name": "stderr",
     "output_type": "stream",
     "text": [
      "C:\\Users\\Prem Kumar\\AppData\\Local\\Temp\\ipykernel_11712\\95846132.py:1: DtypeWarning: Columns (7,8,18,25) have mixed types. Specify dtype option on import or set low_memory=False.\n",
      "  df1 = pd.read_csv(\"Summary of Weather.csv\")\n"
     ]
    }
   ],
   "source": [
    "df1 = pd.read_csv(\"Summary of Weather.csv\")\n",
    "df2 = pd.read_csv(\"Weather Station Locations.csv\")"
   ]
  },
  {
   "cell_type": "markdown",
   "metadata": {},
   "source": [
    "## Combining Datasets"
   ]
  },
  {
   "cell_type": "code",
   "execution_count": 137,
   "metadata": {},
   "outputs": [],
   "source": [
    "dataset = pd.merge(df1, df2, left_on='STA', right_on='WBAN')"
   ]
  },
  {
   "cell_type": "code",
   "execution_count": 138,
   "metadata": {},
   "outputs": [
    {
     "data": {
      "text/html": [
       "<div>\n",
       "<style scoped>\n",
       "    .dataframe tbody tr th:only-of-type {\n",
       "        vertical-align: middle;\n",
       "    }\n",
       "\n",
       "    .dataframe tbody tr th {\n",
       "        vertical-align: top;\n",
       "    }\n",
       "\n",
       "    .dataframe thead th {\n",
       "        text-align: right;\n",
       "    }\n",
       "</style>\n",
       "<table border=\"1\" class=\"dataframe\">\n",
       "  <thead>\n",
       "    <tr style=\"text-align: right;\">\n",
       "      <th></th>\n",
       "      <th>STA</th>\n",
       "      <th>Date</th>\n",
       "      <th>Precip</th>\n",
       "      <th>WindGustSpd</th>\n",
       "      <th>MaxTemp</th>\n",
       "      <th>MinTemp</th>\n",
       "      <th>MeanTemp</th>\n",
       "      <th>Snowfall</th>\n",
       "      <th>PoorWeather</th>\n",
       "      <th>YR</th>\n",
       "      <th>...</th>\n",
       "      <th>RVG</th>\n",
       "      <th>WTE</th>\n",
       "      <th>WBAN</th>\n",
       "      <th>NAME</th>\n",
       "      <th>STATE/COUNTRY ID</th>\n",
       "      <th>LAT</th>\n",
       "      <th>LON</th>\n",
       "      <th>ELEV</th>\n",
       "      <th>Latitude</th>\n",
       "      <th>Longitude</th>\n",
       "    </tr>\n",
       "  </thead>\n",
       "  <tbody>\n",
       "    <tr>\n",
       "      <th>0</th>\n",
       "      <td>10001</td>\n",
       "      <td>1942-7-1</td>\n",
       "      <td>1.016</td>\n",
       "      <td>NaN</td>\n",
       "      <td>25.555556</td>\n",
       "      <td>22.222222</td>\n",
       "      <td>23.888889</td>\n",
       "      <td>0.0</td>\n",
       "      <td>NaN</td>\n",
       "      <td>42</td>\n",
       "      <td>...</td>\n",
       "      <td>NaN</td>\n",
       "      <td>NaN</td>\n",
       "      <td>10001</td>\n",
       "      <td>ACCRA</td>\n",
       "      <td>GH</td>\n",
       "      <td>0536N</td>\n",
       "      <td>00010W</td>\n",
       "      <td>62</td>\n",
       "      <td>5.6</td>\n",
       "      <td>-0.3</td>\n",
       "    </tr>\n",
       "    <tr>\n",
       "      <th>1</th>\n",
       "      <td>10001</td>\n",
       "      <td>1942-7-2</td>\n",
       "      <td>0</td>\n",
       "      <td>NaN</td>\n",
       "      <td>28.888889</td>\n",
       "      <td>21.666667</td>\n",
       "      <td>25.555556</td>\n",
       "      <td>0.0</td>\n",
       "      <td>NaN</td>\n",
       "      <td>42</td>\n",
       "      <td>...</td>\n",
       "      <td>NaN</td>\n",
       "      <td>NaN</td>\n",
       "      <td>10001</td>\n",
       "      <td>ACCRA</td>\n",
       "      <td>GH</td>\n",
       "      <td>0536N</td>\n",
       "      <td>00010W</td>\n",
       "      <td>62</td>\n",
       "      <td>5.6</td>\n",
       "      <td>-0.3</td>\n",
       "    </tr>\n",
       "    <tr>\n",
       "      <th>2</th>\n",
       "      <td>10001</td>\n",
       "      <td>1942-7-3</td>\n",
       "      <td>2.54</td>\n",
       "      <td>NaN</td>\n",
       "      <td>26.111111</td>\n",
       "      <td>22.222222</td>\n",
       "      <td>24.444444</td>\n",
       "      <td>0.0</td>\n",
       "      <td>NaN</td>\n",
       "      <td>42</td>\n",
       "      <td>...</td>\n",
       "      <td>NaN</td>\n",
       "      <td>NaN</td>\n",
       "      <td>10001</td>\n",
       "      <td>ACCRA</td>\n",
       "      <td>GH</td>\n",
       "      <td>0536N</td>\n",
       "      <td>00010W</td>\n",
       "      <td>62</td>\n",
       "      <td>5.6</td>\n",
       "      <td>-0.3</td>\n",
       "    </tr>\n",
       "    <tr>\n",
       "      <th>3</th>\n",
       "      <td>10001</td>\n",
       "      <td>1942-7-4</td>\n",
       "      <td>2.54</td>\n",
       "      <td>NaN</td>\n",
       "      <td>26.666667</td>\n",
       "      <td>22.222222</td>\n",
       "      <td>24.444444</td>\n",
       "      <td>0.0</td>\n",
       "      <td>NaN</td>\n",
       "      <td>42</td>\n",
       "      <td>...</td>\n",
       "      <td>NaN</td>\n",
       "      <td>NaN</td>\n",
       "      <td>10001</td>\n",
       "      <td>ACCRA</td>\n",
       "      <td>GH</td>\n",
       "      <td>0536N</td>\n",
       "      <td>00010W</td>\n",
       "      <td>62</td>\n",
       "      <td>5.6</td>\n",
       "      <td>-0.3</td>\n",
       "    </tr>\n",
       "    <tr>\n",
       "      <th>4</th>\n",
       "      <td>10001</td>\n",
       "      <td>1942-7-5</td>\n",
       "      <td>0</td>\n",
       "      <td>NaN</td>\n",
       "      <td>26.666667</td>\n",
       "      <td>21.666667</td>\n",
       "      <td>24.444444</td>\n",
       "      <td>0.0</td>\n",
       "      <td>NaN</td>\n",
       "      <td>42</td>\n",
       "      <td>...</td>\n",
       "      <td>NaN</td>\n",
       "      <td>NaN</td>\n",
       "      <td>10001</td>\n",
       "      <td>ACCRA</td>\n",
       "      <td>GH</td>\n",
       "      <td>0536N</td>\n",
       "      <td>00010W</td>\n",
       "      <td>62</td>\n",
       "      <td>5.6</td>\n",
       "      <td>-0.3</td>\n",
       "    </tr>\n",
       "  </tbody>\n",
       "</table>\n",
       "<p>5 rows × 39 columns</p>\n",
       "</div>"
      ],
      "text/plain": [
       "     STA      Date Precip  WindGustSpd    MaxTemp    MinTemp   MeanTemp  \\\n",
       "0  10001  1942-7-1  1.016          NaN  25.555556  22.222222  23.888889   \n",
       "1  10001  1942-7-2      0          NaN  28.888889  21.666667  25.555556   \n",
       "2  10001  1942-7-3   2.54          NaN  26.111111  22.222222  24.444444   \n",
       "3  10001  1942-7-4   2.54          NaN  26.666667  22.222222  24.444444   \n",
       "4  10001  1942-7-5      0          NaN  26.666667  21.666667  24.444444   \n",
       "\n",
       "  Snowfall PoorWeather  YR  ...  RVG  WTE   WBAN   NAME  STATE/COUNTRY ID  \\\n",
       "0      0.0         NaN  42  ...  NaN  NaN  10001  ACCRA                GH   \n",
       "1      0.0         NaN  42  ...  NaN  NaN  10001  ACCRA                GH   \n",
       "2      0.0         NaN  42  ...  NaN  NaN  10001  ACCRA                GH   \n",
       "3      0.0         NaN  42  ...  NaN  NaN  10001  ACCRA                GH   \n",
       "4      0.0         NaN  42  ...  NaN  NaN  10001  ACCRA                GH   \n",
       "\n",
       "     LAT     LON  ELEV Latitude  Longitude  \n",
       "0  0536N  00010W    62      5.6       -0.3  \n",
       "1  0536N  00010W    62      5.6       -0.3  \n",
       "2  0536N  00010W    62      5.6       -0.3  \n",
       "3  0536N  00010W    62      5.6       -0.3  \n",
       "4  0536N  00010W    62      5.6       -0.3  \n",
       "\n",
       "[5 rows x 39 columns]"
      ]
     },
     "execution_count": 138,
     "metadata": {},
     "output_type": "execute_result"
    }
   ],
   "source": [
    "dataset.head()"
   ]
  },
  {
   "cell_type": "code",
   "execution_count": 139,
   "metadata": {},
   "outputs": [
    {
     "data": {
      "text/plain": [
       "(119040, 39)"
      ]
     },
     "execution_count": 139,
     "metadata": {},
     "output_type": "execute_result"
    }
   ],
   "source": [
    "dataset.shape"
   ]
  },
  {
   "cell_type": "code",
   "execution_count": 140,
   "metadata": {},
   "outputs": [
    {
     "data": {
      "text/html": [
       "<div>\n",
       "<style scoped>\n",
       "    .dataframe tbody tr th:only-of-type {\n",
       "        vertical-align: middle;\n",
       "    }\n",
       "\n",
       "    .dataframe tbody tr th {\n",
       "        vertical-align: top;\n",
       "    }\n",
       "\n",
       "    .dataframe thead th {\n",
       "        text-align: right;\n",
       "    }\n",
       "</style>\n",
       "<table border=\"1\" class=\"dataframe\">\n",
       "  <thead>\n",
       "    <tr style=\"text-align: right;\">\n",
       "      <th></th>\n",
       "      <th>STA</th>\n",
       "      <th>WindGustSpd</th>\n",
       "      <th>MaxTemp</th>\n",
       "      <th>MinTemp</th>\n",
       "      <th>MeanTemp</th>\n",
       "      <th>YR</th>\n",
       "      <th>MO</th>\n",
       "      <th>DA</th>\n",
       "      <th>DR</th>\n",
       "      <th>SPD</th>\n",
       "      <th>...</th>\n",
       "      <th>PGT</th>\n",
       "      <th>SD3</th>\n",
       "      <th>RHX</th>\n",
       "      <th>RHN</th>\n",
       "      <th>RVG</th>\n",
       "      <th>WTE</th>\n",
       "      <th>WBAN</th>\n",
       "      <th>ELEV</th>\n",
       "      <th>Latitude</th>\n",
       "      <th>Longitude</th>\n",
       "    </tr>\n",
       "  </thead>\n",
       "  <tbody>\n",
       "    <tr>\n",
       "      <th>count</th>\n",
       "      <td>119040.000000</td>\n",
       "      <td>532.000000</td>\n",
       "      <td>119040.000000</td>\n",
       "      <td>119040.000000</td>\n",
       "      <td>119040.000000</td>\n",
       "      <td>119040.000000</td>\n",
       "      <td>119040.000000</td>\n",
       "      <td>119040.000000</td>\n",
       "      <td>533.000000</td>\n",
       "      <td>532.000000</td>\n",
       "      <td>...</td>\n",
       "      <td>525.000000</td>\n",
       "      <td>0.0</td>\n",
       "      <td>0.0</td>\n",
       "      <td>0.0</td>\n",
       "      <td>0.0</td>\n",
       "      <td>0.0</td>\n",
       "      <td>119040.000000</td>\n",
       "      <td>119040.000000</td>\n",
       "      <td>119040.000000</td>\n",
       "      <td>119040.000000</td>\n",
       "    </tr>\n",
       "    <tr>\n",
       "      <th>mean</th>\n",
       "      <td>29659.435795</td>\n",
       "      <td>37.774534</td>\n",
       "      <td>27.045111</td>\n",
       "      <td>17.789511</td>\n",
       "      <td>22.411631</td>\n",
       "      <td>43.805284</td>\n",
       "      <td>6.726016</td>\n",
       "      <td>15.797530</td>\n",
       "      <td>26.998124</td>\n",
       "      <td>20.396617</td>\n",
       "      <td>...</td>\n",
       "      <td>12.085333</td>\n",
       "      <td>NaN</td>\n",
       "      <td>NaN</td>\n",
       "      <td>NaN</td>\n",
       "      <td>NaN</td>\n",
       "      <td>NaN</td>\n",
       "      <td>29659.435795</td>\n",
       "      <td>416.380385</td>\n",
       "      <td>17.553536</td>\n",
       "      <td>-15.787356</td>\n",
       "    </tr>\n",
       "    <tr>\n",
       "      <th>std</th>\n",
       "      <td>20953.209402</td>\n",
       "      <td>10.297808</td>\n",
       "      <td>8.717817</td>\n",
       "      <td>8.334572</td>\n",
       "      <td>8.297982</td>\n",
       "      <td>1.136718</td>\n",
       "      <td>3.425561</td>\n",
       "      <td>8.794541</td>\n",
       "      <td>15.221732</td>\n",
       "      <td>5.560371</td>\n",
       "      <td>...</td>\n",
       "      <td>5.731328</td>\n",
       "      <td>NaN</td>\n",
       "      <td>NaN</td>\n",
       "      <td>NaN</td>\n",
       "      <td>NaN</td>\n",
       "      <td>NaN</td>\n",
       "      <td>20953.209402</td>\n",
       "      <td>1696.652854</td>\n",
       "      <td>19.763832</td>\n",
       "      <td>88.764354</td>\n",
       "    </tr>\n",
       "    <tr>\n",
       "      <th>min</th>\n",
       "      <td>10001.000000</td>\n",
       "      <td>18.520000</td>\n",
       "      <td>-33.333333</td>\n",
       "      <td>-38.333333</td>\n",
       "      <td>-35.555556</td>\n",
       "      <td>40.000000</td>\n",
       "      <td>1.000000</td>\n",
       "      <td>1.000000</td>\n",
       "      <td>2.000000</td>\n",
       "      <td>10.000000</td>\n",
       "      <td>...</td>\n",
       "      <td>0.000000</td>\n",
       "      <td>NaN</td>\n",
       "      <td>NaN</td>\n",
       "      <td>NaN</td>\n",
       "      <td>NaN</td>\n",
       "      <td>NaN</td>\n",
       "      <td>10001.000000</td>\n",
       "      <td>1.000000</td>\n",
       "      <td>-27.600000</td>\n",
       "      <td>-175.000000</td>\n",
       "    </tr>\n",
       "    <tr>\n",
       "      <th>25%</th>\n",
       "      <td>11801.000000</td>\n",
       "      <td>29.632000</td>\n",
       "      <td>25.555556</td>\n",
       "      <td>15.000000</td>\n",
       "      <td>20.555556</td>\n",
       "      <td>43.000000</td>\n",
       "      <td>4.000000</td>\n",
       "      <td>8.000000</td>\n",
       "      <td>11.000000</td>\n",
       "      <td>16.000000</td>\n",
       "      <td>...</td>\n",
       "      <td>8.500000</td>\n",
       "      <td>NaN</td>\n",
       "      <td>NaN</td>\n",
       "      <td>NaN</td>\n",
       "      <td>NaN</td>\n",
       "      <td>NaN</td>\n",
       "      <td>11801.000000</td>\n",
       "      <td>9.000000</td>\n",
       "      <td>6.750000</td>\n",
       "      <td>-79.500000</td>\n",
       "    </tr>\n",
       "    <tr>\n",
       "      <th>50%</th>\n",
       "      <td>22508.000000</td>\n",
       "      <td>37.040000</td>\n",
       "      <td>29.444444</td>\n",
       "      <td>21.111111</td>\n",
       "      <td>25.555556</td>\n",
       "      <td>44.000000</td>\n",
       "      <td>7.000000</td>\n",
       "      <td>16.000000</td>\n",
       "      <td>32.000000</td>\n",
       "      <td>20.000000</td>\n",
       "      <td>...</td>\n",
       "      <td>11.600000</td>\n",
       "      <td>NaN</td>\n",
       "      <td>NaN</td>\n",
       "      <td>NaN</td>\n",
       "      <td>NaN</td>\n",
       "      <td>NaN</td>\n",
       "      <td>22508.000000</td>\n",
       "      <td>26.000000</td>\n",
       "      <td>17.900000</td>\n",
       "      <td>-22.616667</td>\n",
       "    </tr>\n",
       "    <tr>\n",
       "      <th>75%</th>\n",
       "      <td>33501.000000</td>\n",
       "      <td>43.059000</td>\n",
       "      <td>31.666667</td>\n",
       "      <td>23.333333</td>\n",
       "      <td>27.222222</td>\n",
       "      <td>45.000000</td>\n",
       "      <td>10.000000</td>\n",
       "      <td>23.000000</td>\n",
       "      <td>34.000000</td>\n",
       "      <td>23.250000</td>\n",
       "      <td>...</td>\n",
       "      <td>15.000000</td>\n",
       "      <td>NaN</td>\n",
       "      <td>NaN</td>\n",
       "      <td>NaN</td>\n",
       "      <td>NaN</td>\n",
       "      <td>NaN</td>\n",
       "      <td>33501.000000</td>\n",
       "      <td>93.000000</td>\n",
       "      <td>27.683333</td>\n",
       "      <td>44.866667</td>\n",
       "    </tr>\n",
       "    <tr>\n",
       "      <th>max</th>\n",
       "      <td>82506.000000</td>\n",
       "      <td>75.932000</td>\n",
       "      <td>50.000000</td>\n",
       "      <td>34.444444</td>\n",
       "      <td>40.000000</td>\n",
       "      <td>45.000000</td>\n",
       "      <td>12.000000</td>\n",
       "      <td>31.000000</td>\n",
       "      <td>78.000000</td>\n",
       "      <td>41.000000</td>\n",
       "      <td>...</td>\n",
       "      <td>23.900000</td>\n",
       "      <td>NaN</td>\n",
       "      <td>NaN</td>\n",
       "      <td>NaN</td>\n",
       "      <td>NaN</td>\n",
       "      <td>NaN</td>\n",
       "      <td>82506.000000</td>\n",
       "      <td>9999.000000</td>\n",
       "      <td>67.016667</td>\n",
       "      <td>177.366667</td>\n",
       "    </tr>\n",
       "  </tbody>\n",
       "</table>\n",
       "<p>8 rows × 28 columns</p>\n",
       "</div>"
      ],
      "text/plain": [
       "                 STA  WindGustSpd        MaxTemp        MinTemp  \\\n",
       "count  119040.000000   532.000000  119040.000000  119040.000000   \n",
       "mean    29659.435795    37.774534      27.045111      17.789511   \n",
       "std     20953.209402    10.297808       8.717817       8.334572   \n",
       "min     10001.000000    18.520000     -33.333333     -38.333333   \n",
       "25%     11801.000000    29.632000      25.555556      15.000000   \n",
       "50%     22508.000000    37.040000      29.444444      21.111111   \n",
       "75%     33501.000000    43.059000      31.666667      23.333333   \n",
       "max     82506.000000    75.932000      50.000000      34.444444   \n",
       "\n",
       "            MeanTemp             YR             MO             DA          DR  \\\n",
       "count  119040.000000  119040.000000  119040.000000  119040.000000  533.000000   \n",
       "mean       22.411631      43.805284       6.726016      15.797530   26.998124   \n",
       "std         8.297982       1.136718       3.425561       8.794541   15.221732   \n",
       "min       -35.555556      40.000000       1.000000       1.000000    2.000000   \n",
       "25%        20.555556      43.000000       4.000000       8.000000   11.000000   \n",
       "50%        25.555556      44.000000       7.000000      16.000000   32.000000   \n",
       "75%        27.222222      45.000000      10.000000      23.000000   34.000000   \n",
       "max        40.000000      45.000000      12.000000      31.000000   78.000000   \n",
       "\n",
       "              SPD  ...         PGT  SD3  RHX  RHN  RVG  WTE           WBAN  \\\n",
       "count  532.000000  ...  525.000000  0.0  0.0  0.0  0.0  0.0  119040.000000   \n",
       "mean    20.396617  ...   12.085333  NaN  NaN  NaN  NaN  NaN   29659.435795   \n",
       "std      5.560371  ...    5.731328  NaN  NaN  NaN  NaN  NaN   20953.209402   \n",
       "min     10.000000  ...    0.000000  NaN  NaN  NaN  NaN  NaN   10001.000000   \n",
       "25%     16.000000  ...    8.500000  NaN  NaN  NaN  NaN  NaN   11801.000000   \n",
       "50%     20.000000  ...   11.600000  NaN  NaN  NaN  NaN  NaN   22508.000000   \n",
       "75%     23.250000  ...   15.000000  NaN  NaN  NaN  NaN  NaN   33501.000000   \n",
       "max     41.000000  ...   23.900000  NaN  NaN  NaN  NaN  NaN   82506.000000   \n",
       "\n",
       "                ELEV       Latitude      Longitude  \n",
       "count  119040.000000  119040.000000  119040.000000  \n",
       "mean      416.380385      17.553536     -15.787356  \n",
       "std      1696.652854      19.763832      88.764354  \n",
       "min         1.000000     -27.600000    -175.000000  \n",
       "25%         9.000000       6.750000     -79.500000  \n",
       "50%        26.000000      17.900000     -22.616667  \n",
       "75%        93.000000      27.683333      44.866667  \n",
       "max      9999.000000      67.016667     177.366667  \n",
       "\n",
       "[8 rows x 28 columns]"
      ]
     },
     "execution_count": 140,
     "metadata": {},
     "output_type": "execute_result"
    }
   ],
   "source": [
    "dataset.describe()"
   ]
  },
  {
   "cell_type": "markdown",
   "metadata": {},
   "source": [
    "## Data Molding(Encoding)"
   ]
  },
  {
   "cell_type": "code",
   "execution_count": 141,
   "metadata": {},
   "outputs": [
    {
     "name": "stdout",
     "output_type": "stream",
     "text": [
      "<class 'pandas.core.frame.DataFrame'>\n",
      "Int64Index: 119040 entries, 0 to 119039\n",
      "Data columns (total 39 columns):\n",
      " #   Column            Non-Null Count   Dtype  \n",
      "---  ------            --------------   -----  \n",
      " 0   STA               119040 non-null  int64  \n",
      " 1   Date              119040 non-null  object \n",
      " 2   Precip            119040 non-null  object \n",
      " 3   WindGustSpd       532 non-null     float64\n",
      " 4   MaxTemp           119040 non-null  float64\n",
      " 5   MinTemp           119040 non-null  float64\n",
      " 6   MeanTemp          119040 non-null  float64\n",
      " 7   Snowfall          117877 non-null  object \n",
      " 8   PoorWeather       34237 non-null   object \n",
      " 9   YR                119040 non-null  int64  \n",
      " 10  MO                119040 non-null  int64  \n",
      " 11  DA                119040 non-null  int64  \n",
      " 12  PRCP              117108 non-null  object \n",
      " 13  DR                533 non-null     float64\n",
      " 14  SPD               532 non-null     float64\n",
      " 15  MAX               118566 non-null  float64\n",
      " 16  MIN               118572 non-null  float64\n",
      " 17  MEA               118542 non-null  float64\n",
      " 18  SNF               117877 non-null  object \n",
      " 19  SND               5563 non-null    float64\n",
      " 20  FT                0 non-null       float64\n",
      " 21  FB                0 non-null       float64\n",
      " 22  FTI               0 non-null       float64\n",
      " 23  ITH               0 non-null       float64\n",
      " 24  PGT               525 non-null     float64\n",
      " 25  TSHDSBRSGF        34237 non-null   object \n",
      " 26  SD3               0 non-null       float64\n",
      " 27  RHX               0 non-null       float64\n",
      " 28  RHN               0 non-null       float64\n",
      " 29  RVG               0 non-null       float64\n",
      " 30  WTE               0 non-null       float64\n",
      " 31  WBAN              119040 non-null  int64  \n",
      " 32  NAME              119040 non-null  object \n",
      " 33  STATE/COUNTRY ID  119040 non-null  object \n",
      " 34  LAT               119040 non-null  object \n",
      " 35  LON               119040 non-null  object \n",
      " 36  ELEV              119040 non-null  int64  \n",
      " 37  Latitude          119040 non-null  float64\n",
      " 38  Longitude         119040 non-null  float64\n",
      "dtypes: float64(22), int64(6), object(11)\n",
      "memory usage: 36.3+ MB\n"
     ]
    }
   ],
   "source": [
    "dataset.info()"
   ]
  },
  {
   "cell_type": "markdown",
   "metadata": {},
   "source": [
    "### Deleting unnecessary features"
   ]
  },
  {
   "cell_type": "code",
   "execution_count": 142,
   "metadata": {},
   "outputs": [],
   "source": [
    "del dataset['Date'] \n",
    "del dataset['WindGustSpd'] \n",
    "del dataset['DR']\n",
    "del dataset['SPD'] \n",
    "del dataset['SND']\n",
    "del dataset['FT']\n",
    "del dataset['FB']\n",
    "del dataset['FTI'] \n",
    "del dataset['ITH']\n",
    "del dataset['PGT'] \n",
    "del dataset['TSHDSBRSGF']\n",
    "del dataset['SD3']\n",
    "del dataset['RHX'] \n",
    "del dataset['RHN'] \n",
    "del dataset['RVG'] \n",
    "del dataset['NAME'] \n",
    "del dataset['STATE/COUNTRY ID'] \n",
    "del dataset['LON']\n",
    "del dataset['Latitude']\n",
    "del dataset['Longitude']\n",
    "del dataset['WBAN']\n",
    "del dataset['STA']\n",
    "del dataset['LAT']\n",
    "del dataset['WTE']"
   ]
  },
  {
   "cell_type": "code",
   "execution_count": 143,
   "metadata": {},
   "outputs": [
    {
     "data": {
      "text/plain": [
       "(119040, 15)"
      ]
     },
     "execution_count": 143,
     "metadata": {},
     "output_type": "execute_result"
    }
   ],
   "source": [
    "dataset.shape"
   ]
  },
  {
   "cell_type": "code",
   "execution_count": 144,
   "metadata": {},
   "outputs": [
    {
     "data": {
      "text/html": [
       "<div>\n",
       "<style scoped>\n",
       "    .dataframe tbody tr th:only-of-type {\n",
       "        vertical-align: middle;\n",
       "    }\n",
       "\n",
       "    .dataframe tbody tr th {\n",
       "        vertical-align: top;\n",
       "    }\n",
       "\n",
       "    .dataframe thead th {\n",
       "        text-align: right;\n",
       "    }\n",
       "</style>\n",
       "<table border=\"1\" class=\"dataframe\">\n",
       "  <thead>\n",
       "    <tr style=\"text-align: right;\">\n",
       "      <th></th>\n",
       "      <th>MaxTemp</th>\n",
       "      <th>MinTemp</th>\n",
       "      <th>MeanTemp</th>\n",
       "      <th>YR</th>\n",
       "      <th>MO</th>\n",
       "      <th>DA</th>\n",
       "      <th>MAX</th>\n",
       "      <th>MIN</th>\n",
       "      <th>MEA</th>\n",
       "      <th>ELEV</th>\n",
       "    </tr>\n",
       "  </thead>\n",
       "  <tbody>\n",
       "    <tr>\n",
       "      <th>count</th>\n",
       "      <td>119040.000000</td>\n",
       "      <td>119040.000000</td>\n",
       "      <td>119040.000000</td>\n",
       "      <td>119040.000000</td>\n",
       "      <td>119040.000000</td>\n",
       "      <td>119040.000000</td>\n",
       "      <td>118566.000000</td>\n",
       "      <td>118572.000000</td>\n",
       "      <td>118542.000000</td>\n",
       "      <td>119040.000000</td>\n",
       "    </tr>\n",
       "    <tr>\n",
       "      <th>mean</th>\n",
       "      <td>27.045111</td>\n",
       "      <td>17.789511</td>\n",
       "      <td>22.411631</td>\n",
       "      <td>43.805284</td>\n",
       "      <td>6.726016</td>\n",
       "      <td>15.797530</td>\n",
       "      <td>81.003745</td>\n",
       "      <td>64.273808</td>\n",
       "      <td>72.644843</td>\n",
       "      <td>416.380385</td>\n",
       "    </tr>\n",
       "    <tr>\n",
       "      <th>std</th>\n",
       "      <td>8.717817</td>\n",
       "      <td>8.334572</td>\n",
       "      <td>8.297982</td>\n",
       "      <td>1.136718</td>\n",
       "      <td>3.425561</td>\n",
       "      <td>8.794541</td>\n",
       "      <td>14.869361</td>\n",
       "      <td>14.481498</td>\n",
       "      <td>14.211082</td>\n",
       "      <td>1696.652854</td>\n",
       "    </tr>\n",
       "    <tr>\n",
       "      <th>min</th>\n",
       "      <td>-33.333333</td>\n",
       "      <td>-38.333333</td>\n",
       "      <td>-35.555556</td>\n",
       "      <td>40.000000</td>\n",
       "      <td>1.000000</td>\n",
       "      <td>1.000000</td>\n",
       "      <td>-28.000000</td>\n",
       "      <td>-37.000000</td>\n",
       "      <td>-32.000000</td>\n",
       "      <td>1.000000</td>\n",
       "    </tr>\n",
       "    <tr>\n",
       "      <th>25%</th>\n",
       "      <td>25.555556</td>\n",
       "      <td>15.000000</td>\n",
       "      <td>20.555556</td>\n",
       "      <td>43.000000</td>\n",
       "      <td>4.000000</td>\n",
       "      <td>8.000000</td>\n",
       "      <td>78.000000</td>\n",
       "      <td>59.000000</td>\n",
       "      <td>69.000000</td>\n",
       "      <td>9.000000</td>\n",
       "    </tr>\n",
       "    <tr>\n",
       "      <th>50%</th>\n",
       "      <td>29.444444</td>\n",
       "      <td>21.111111</td>\n",
       "      <td>25.555556</td>\n",
       "      <td>44.000000</td>\n",
       "      <td>7.000000</td>\n",
       "      <td>16.000000</td>\n",
       "      <td>85.000000</td>\n",
       "      <td>70.000000</td>\n",
       "      <td>78.000000</td>\n",
       "      <td>26.000000</td>\n",
       "    </tr>\n",
       "    <tr>\n",
       "      <th>75%</th>\n",
       "      <td>31.666667</td>\n",
       "      <td>23.333333</td>\n",
       "      <td>27.222222</td>\n",
       "      <td>45.000000</td>\n",
       "      <td>10.000000</td>\n",
       "      <td>23.000000</td>\n",
       "      <td>89.000000</td>\n",
       "      <td>74.000000</td>\n",
       "      <td>81.000000</td>\n",
       "      <td>93.000000</td>\n",
       "    </tr>\n",
       "    <tr>\n",
       "      <th>max</th>\n",
       "      <td>50.000000</td>\n",
       "      <td>34.444444</td>\n",
       "      <td>40.000000</td>\n",
       "      <td>45.000000</td>\n",
       "      <td>12.000000</td>\n",
       "      <td>31.000000</td>\n",
       "      <td>122.000000</td>\n",
       "      <td>94.000000</td>\n",
       "      <td>104.000000</td>\n",
       "      <td>9999.000000</td>\n",
       "    </tr>\n",
       "  </tbody>\n",
       "</table>\n",
       "</div>"
      ],
      "text/plain": [
       "             MaxTemp        MinTemp       MeanTemp             YR  \\\n",
       "count  119040.000000  119040.000000  119040.000000  119040.000000   \n",
       "mean       27.045111      17.789511      22.411631      43.805284   \n",
       "std         8.717817       8.334572       8.297982       1.136718   \n",
       "min       -33.333333     -38.333333     -35.555556      40.000000   \n",
       "25%        25.555556      15.000000      20.555556      43.000000   \n",
       "50%        29.444444      21.111111      25.555556      44.000000   \n",
       "75%        31.666667      23.333333      27.222222      45.000000   \n",
       "max        50.000000      34.444444      40.000000      45.000000   \n",
       "\n",
       "                  MO             DA            MAX            MIN  \\\n",
       "count  119040.000000  119040.000000  118566.000000  118572.000000   \n",
       "mean        6.726016      15.797530      81.003745      64.273808   \n",
       "std         3.425561       8.794541      14.869361      14.481498   \n",
       "min         1.000000       1.000000     -28.000000     -37.000000   \n",
       "25%         4.000000       8.000000      78.000000      59.000000   \n",
       "50%         7.000000      16.000000      85.000000      70.000000   \n",
       "75%        10.000000      23.000000      89.000000      74.000000   \n",
       "max        12.000000      31.000000     122.000000      94.000000   \n",
       "\n",
       "                 MEA           ELEV  \n",
       "count  118542.000000  119040.000000  \n",
       "mean       72.644843     416.380385  \n",
       "std        14.211082    1696.652854  \n",
       "min       -32.000000       1.000000  \n",
       "25%        69.000000       9.000000  \n",
       "50%        78.000000      26.000000  \n",
       "75%        81.000000      93.000000  \n",
       "max       104.000000    9999.000000  "
      ]
     },
     "execution_count": 144,
     "metadata": {},
     "output_type": "execute_result"
    }
   ],
   "source": [
    "dataset.describe()"
   ]
  },
  {
   "cell_type": "code",
   "execution_count": 145,
   "metadata": {},
   "outputs": [
    {
     "name": "stdout",
     "output_type": "stream",
     "text": [
      "<class 'pandas.core.frame.DataFrame'>\n",
      "Int64Index: 119040 entries, 0 to 119039\n",
      "Data columns (total 15 columns):\n",
      " #   Column       Non-Null Count   Dtype  \n",
      "---  ------       --------------   -----  \n",
      " 0   Precip       119040 non-null  object \n",
      " 1   MaxTemp      119040 non-null  float64\n",
      " 2   MinTemp      119040 non-null  float64\n",
      " 3   MeanTemp     119040 non-null  float64\n",
      " 4   Snowfall     117877 non-null  object \n",
      " 5   PoorWeather  34237 non-null   object \n",
      " 6   YR           119040 non-null  int64  \n",
      " 7   MO           119040 non-null  int64  \n",
      " 8   DA           119040 non-null  int64  \n",
      " 9   PRCP         117108 non-null  object \n",
      " 10  MAX          118566 non-null  float64\n",
      " 11  MIN          118572 non-null  float64\n",
      " 12  MEA          118542 non-null  float64\n",
      " 13  SNF          117877 non-null  object \n",
      " 14  ELEV         119040 non-null  int64  \n",
      "dtypes: float64(6), int64(4), object(5)\n",
      "memory usage: 14.5+ MB\n",
      "None\n"
     ]
    }
   ],
   "source": [
    "print(dataset.info())"
   ]
  },
  {
   "cell_type": "code",
   "execution_count": 146,
   "metadata": {},
   "outputs": [
    {
     "name": "stdout",
     "output_type": "stream",
     "text": [
      "[0.0 nan '0' '22.86' '33.02' '30.48' '2.54' '5.08' '10.16' '7.62' '20.32'\n",
      " '15.24' '17.78' '12.7' '25.4' '27.94' '43.18' '38.1' '45.72' '53.34'\n",
      " '58.42' '66.04' '76.2' '81.28' '73.66' '63.5' '50.8' '48.26' '60.96'\n",
      " '55.88' '35.56' '78.74' '40.64' '86.36' '83.82' '68.58' '#VALUE!' 10.16\n",
      " 7.62 15.24 2.54 5.08 12.7]\n",
      "44\n"
     ]
    }
   ],
   "source": [
    "# Removing unnecessary values\n",
    "\n",
    "print(dataset['Snowfall'].unique())\n",
    "print(len(dataset.loc[dataset['Snowfall']=='#VALUE!'].index))\n",
    "dataset.drop(dataset.loc[dataset['Snowfall']=='#VALUE!'].index, inplace=True)"
   ]
  },
  {
   "cell_type": "code",
   "execution_count": 147,
   "metadata": {},
   "outputs": [
    {
     "name": "stdout",
     "output_type": "stream",
     "text": [
      "count     117833.0\n",
      "unique        41.0\n",
      "top            0.0\n",
      "freq       86090.0\n",
      "Name: Snowfall, dtype: float64\n"
     ]
    }
   ],
   "source": [
    "print(dataset['Snowfall'].describe())"
   ]
  },
  {
   "cell_type": "code",
   "execution_count": 148,
   "metadata": {},
   "outputs": [
    {
     "name": "stdout",
     "output_type": "stream",
     "text": [
      "1163\n"
     ]
    }
   ],
   "source": [
    "# Removing unnecessary values\n",
    "\n",
    "dataset['Snowfall'] = dataset['Snowfall'].astype(str)\n",
    "print(len(dataset.loc[dataset['Snowfall']=='nan'].index))\n",
    "dataset.drop(dataset.loc[dataset['Snowfall']=='nan'].index, inplace=True)"
   ]
  },
  {
   "cell_type": "code",
   "execution_count": 149,
   "metadata": {},
   "outputs": [
    {
     "name": "stdout",
     "output_type": "stream",
     "text": [
      "0\n"
     ]
    }
   ],
   "source": [
    "print(len(dataset.loc[dataset['Snowfall']=='nan'].index))"
   ]
  },
  {
   "cell_type": "code",
   "execution_count": 150,
   "metadata": {},
   "outputs": [],
   "source": [
    "dataset['Snowfall'] = dataset['Snowfall'].astype(float)"
   ]
  },
  {
   "cell_type": "code",
   "execution_count": 175,
   "metadata": {},
   "outputs": [
    {
     "data": {
      "text/html": [
       "<div>\n",
       "<style scoped>\n",
       "    .dataframe tbody tr th:only-of-type {\n",
       "        vertical-align: middle;\n",
       "    }\n",
       "\n",
       "    .dataframe tbody tr th {\n",
       "        vertical-align: top;\n",
       "    }\n",
       "\n",
       "    .dataframe thead th {\n",
       "        text-align: right;\n",
       "    }\n",
       "</style>\n",
       "<table border=\"1\" class=\"dataframe\">\n",
       "  <thead>\n",
       "    <tr style=\"text-align: right;\">\n",
       "      <th></th>\n",
       "      <th>Precip</th>\n",
       "      <th>MaxTemp</th>\n",
       "      <th>MinTemp</th>\n",
       "      <th>MeanTemp</th>\n",
       "      <th>Snowfall</th>\n",
       "      <th>PoorWeather</th>\n",
       "      <th>YR</th>\n",
       "      <th>MO</th>\n",
       "      <th>DA</th>\n",
       "      <th>PRCP</th>\n",
       "      <th>MAX</th>\n",
       "      <th>MIN</th>\n",
       "      <th>MEA</th>\n",
       "      <th>SNF</th>\n",
       "      <th>ELEV</th>\n",
       "    </tr>\n",
       "  </thead>\n",
       "  <tbody>\n",
       "    <tr>\n",
       "      <th>42900</th>\n",
       "      <td>6.858</td>\n",
       "      <td>-7.222222</td>\n",
       "      <td>-10.555556</td>\n",
       "      <td>-8.888889</td>\n",
       "      <td>1.0</td>\n",
       "      <td>1.0</td>\n",
       "      <td>44</td>\n",
       "      <td>1</td>\n",
       "      <td>29</td>\n",
       "      <td>0.27</td>\n",
       "      <td>19.0</td>\n",
       "      <td>13.0</td>\n",
       "      <td>16.0</td>\n",
       "      <td>0.9</td>\n",
       "      <td>3</td>\n",
       "    </tr>\n",
       "    <tr>\n",
       "      <th>42904</th>\n",
       "      <td>3.048</td>\n",
       "      <td>-2.777778</td>\n",
       "      <td>-13.333333</td>\n",
       "      <td>-7.777778</td>\n",
       "      <td>1.0</td>\n",
       "      <td>1.0</td>\n",
       "      <td>44</td>\n",
       "      <td>2</td>\n",
       "      <td>2</td>\n",
       "      <td>0.12</td>\n",
       "      <td>27.0</td>\n",
       "      <td>8.0</td>\n",
       "      <td>18.0</td>\n",
       "      <td>1.2</td>\n",
       "      <td>3</td>\n",
       "    </tr>\n",
       "    <tr>\n",
       "      <th>42907</th>\n",
       "      <td>1.016</td>\n",
       "      <td>6.111111</td>\n",
       "      <td>-0.555556</td>\n",
       "      <td>2.777778</td>\n",
       "      <td>1.0</td>\n",
       "      <td>1.0</td>\n",
       "      <td>44</td>\n",
       "      <td>2</td>\n",
       "      <td>5</td>\n",
       "      <td>0.04</td>\n",
       "      <td>43.0</td>\n",
       "      <td>31.0</td>\n",
       "      <td>37.0</td>\n",
       "      <td>1.2</td>\n",
       "      <td>3</td>\n",
       "    </tr>\n",
       "    <tr>\n",
       "      <th>42964</th>\n",
       "      <td>1.524</td>\n",
       "      <td>-4.444444</td>\n",
       "      <td>-6.666667</td>\n",
       "      <td>-5.555556</td>\n",
       "      <td>1.0</td>\n",
       "      <td>1.0</td>\n",
       "      <td>44</td>\n",
       "      <td>4</td>\n",
       "      <td>2</td>\n",
       "      <td>0.06</td>\n",
       "      <td>24.0</td>\n",
       "      <td>20.0</td>\n",
       "      <td>22.0</td>\n",
       "      <td>0.1</td>\n",
       "      <td>3</td>\n",
       "    </tr>\n",
       "    <tr>\n",
       "      <th>43346</th>\n",
       "      <td>1.524</td>\n",
       "      <td>-0.555556</td>\n",
       "      <td>-3.888889</td>\n",
       "      <td>-2.222222</td>\n",
       "      <td>1.0</td>\n",
       "      <td>1.0</td>\n",
       "      <td>43</td>\n",
       "      <td>12</td>\n",
       "      <td>20</td>\n",
       "      <td>0.06</td>\n",
       "      <td>31.0</td>\n",
       "      <td>25.0</td>\n",
       "      <td>28.0</td>\n",
       "      <td>0.2</td>\n",
       "      <td>50</td>\n",
       "    </tr>\n",
       "    <tr>\n",
       "      <th>...</th>\n",
       "      <td>...</td>\n",
       "      <td>...</td>\n",
       "      <td>...</td>\n",
       "      <td>...</td>\n",
       "      <td>...</td>\n",
       "      <td>...</td>\n",
       "      <td>...</td>\n",
       "      <td>...</td>\n",
       "      <td>...</td>\n",
       "      <td>...</td>\n",
       "      <td>...</td>\n",
       "      <td>...</td>\n",
       "      <td>...</td>\n",
       "      <td>...</td>\n",
       "      <td>...</td>\n",
       "    </tr>\n",
       "    <tr>\n",
       "      <th>97178</th>\n",
       "      <td>0.762</td>\n",
       "      <td>0.555556</td>\n",
       "      <td>-7.777778</td>\n",
       "      <td>-3.333333</td>\n",
       "      <td>1.0</td>\n",
       "      <td>1.0</td>\n",
       "      <td>45</td>\n",
       "      <td>12</td>\n",
       "      <td>1</td>\n",
       "      <td>0.03</td>\n",
       "      <td>33.0</td>\n",
       "      <td>18.0</td>\n",
       "      <td>26.0</td>\n",
       "      <td>0.3</td>\n",
       "      <td>20</td>\n",
       "    </tr>\n",
       "    <tr>\n",
       "      <th>97179</th>\n",
       "      <td>1.524</td>\n",
       "      <td>2.222222</td>\n",
       "      <td>-7.222222</td>\n",
       "      <td>-2.222222</td>\n",
       "      <td>1.0</td>\n",
       "      <td>1.0</td>\n",
       "      <td>45</td>\n",
       "      <td>12</td>\n",
       "      <td>2</td>\n",
       "      <td>0.06</td>\n",
       "      <td>36.0</td>\n",
       "      <td>19.0</td>\n",
       "      <td>28.0</td>\n",
       "      <td>0.6</td>\n",
       "      <td>20</td>\n",
       "    </tr>\n",
       "    <tr>\n",
       "      <th>97180</th>\n",
       "      <td>2.032</td>\n",
       "      <td>9.444444</td>\n",
       "      <td>-0.555556</td>\n",
       "      <td>4.444444</td>\n",
       "      <td>1.0</td>\n",
       "      <td>1.0</td>\n",
       "      <td>45</td>\n",
       "      <td>12</td>\n",
       "      <td>3</td>\n",
       "      <td>0.08</td>\n",
       "      <td>49.0</td>\n",
       "      <td>31.0</td>\n",
       "      <td>40.0</td>\n",
       "      <td>0.1</td>\n",
       "      <td>20</td>\n",
       "    </tr>\n",
       "    <tr>\n",
       "      <th>97204</th>\n",
       "      <td>2.286</td>\n",
       "      <td>3.333333</td>\n",
       "      <td>-5.555556</td>\n",
       "      <td>-1.111111</td>\n",
       "      <td>1.0</td>\n",
       "      <td>1.0</td>\n",
       "      <td>45</td>\n",
       "      <td>12</td>\n",
       "      <td>27</td>\n",
       "      <td>0.09</td>\n",
       "      <td>38.0</td>\n",
       "      <td>22.0</td>\n",
       "      <td>30.0</td>\n",
       "      <td>0.2</td>\n",
       "      <td>20</td>\n",
       "    </tr>\n",
       "    <tr>\n",
       "      <th>97434</th>\n",
       "      <td>0.254</td>\n",
       "      <td>0.555556</td>\n",
       "      <td>-6.666667</td>\n",
       "      <td>-3.333333</td>\n",
       "      <td>1.0</td>\n",
       "      <td>1.0</td>\n",
       "      <td>45</td>\n",
       "      <td>11</td>\n",
       "      <td>28</td>\n",
       "      <td>0.01</td>\n",
       "      <td>33.0</td>\n",
       "      <td>20.0</td>\n",
       "      <td>26.0</td>\n",
       "      <td>0.3</td>\n",
       "      <td>27</td>\n",
       "    </tr>\n",
       "  </tbody>\n",
       "</table>\n",
       "<p>523 rows × 15 columns</p>\n",
       "</div>"
      ],
      "text/plain": [
       "       Precip   MaxTemp    MinTemp  MeanTemp  Snowfall  PoorWeather  YR  MO  \\\n",
       "42900   6.858 -7.222222 -10.555556 -8.888889       1.0          1.0  44   1   \n",
       "42904   3.048 -2.777778 -13.333333 -7.777778       1.0          1.0  44   2   \n",
       "42907   1.016  6.111111  -0.555556  2.777778       1.0          1.0  44   2   \n",
       "42964   1.524 -4.444444  -6.666667 -5.555556       1.0          1.0  44   4   \n",
       "43346   1.524 -0.555556  -3.888889 -2.222222       1.0          1.0  43  12   \n",
       "...       ...       ...        ...       ...       ...          ...  ..  ..   \n",
       "97178   0.762  0.555556  -7.777778 -3.333333       1.0          1.0  45  12   \n",
       "97179   1.524  2.222222  -7.222222 -2.222222       1.0          1.0  45  12   \n",
       "97180   2.032  9.444444  -0.555556  4.444444       1.0          1.0  45  12   \n",
       "97204   2.286  3.333333  -5.555556 -1.111111       1.0          1.0  45  12   \n",
       "97434   0.254  0.555556  -6.666667 -3.333333       1.0          1.0  45  11   \n",
       "\n",
       "       DA  PRCP   MAX   MIN   MEA  SNF  ELEV  \n",
       "42900  29  0.27  19.0  13.0  16.0  0.9     3  \n",
       "42904   2  0.12  27.0   8.0  18.0  1.2     3  \n",
       "42907   5  0.04  43.0  31.0  37.0  1.2     3  \n",
       "42964   2  0.06  24.0  20.0  22.0  0.1     3  \n",
       "43346  20  0.06  31.0  25.0  28.0  0.2    50  \n",
       "...    ..   ...   ...   ...   ...  ...   ...  \n",
       "97178   1  0.03  33.0  18.0  26.0  0.3    20  \n",
       "97179   2  0.06  36.0  19.0  28.0  0.6    20  \n",
       "97180   3  0.08  49.0  31.0  40.0  0.1    20  \n",
       "97204  27  0.09  38.0  22.0  30.0  0.2    20  \n",
       "97434  28  0.01  33.0  20.0  26.0  0.3    27  \n",
       "\n",
       "[523 rows x 15 columns]"
      ]
     },
     "execution_count": 175,
     "metadata": {},
     "output_type": "execute_result"
    }
   ],
   "source": [
    "dataset[dataset['Snowfall']!=0]"
   ]
  },
  {
   "cell_type": "code",
   "execution_count": 151,
   "metadata": {},
   "outputs": [],
   "source": [
    "# Claasifiaction function for snowfall\n",
    "\n",
    "classification_func = lambda x : 0 if float(x)==float(0) else 1"
   ]
  },
  {
   "cell_type": "code",
   "execution_count": 152,
   "metadata": {},
   "outputs": [],
   "source": [
    "# Encoding Snowfall Column\n",
    "dataset['Snowfall'] = dataset['Snowfall'].map(classification_func).astype(float)"
   ]
  },
  {
   "cell_type": "code",
   "execution_count": 153,
   "metadata": {},
   "outputs": [
    {
     "data": {
      "text/plain": [
       "count    117833.000000\n",
       "mean          0.018187\n",
       "std           0.133627\n",
       "min           0.000000\n",
       "25%           0.000000\n",
       "50%           0.000000\n",
       "75%           0.000000\n",
       "max           1.000000\n",
       "Name: Snowfall, dtype: float64"
      ]
     },
     "execution_count": 153,
     "metadata": {},
     "output_type": "execute_result"
    }
   ],
   "source": [
    "dataset['Snowfall'].describe()"
   ]
  },
  {
   "cell_type": "code",
   "execution_count": 154,
   "metadata": {},
   "outputs": [
    {
     "data": {
      "text/plain": [
       "array([0., 1.])"
      ]
     },
     "execution_count": 154,
     "metadata": {},
     "output_type": "execute_result"
    }
   ],
   "source": [
    "dataset['Snowfall'].unique()"
   ]
  },
  {
   "cell_type": "code",
   "execution_count": 155,
   "metadata": {},
   "outputs": [
    {
     "name": "stdout",
     "output_type": "stream",
     "text": [
      "115690\n",
      "2143\n"
     ]
    }
   ],
   "source": [
    "print(len(dataset.loc[dataset[\"Snowfall\"]==float(0)].index))\n",
    "print(len(dataset.loc[dataset[\"Snowfall\"]==float(1)].index))"
   ]
  },
  {
   "cell_type": "code",
   "execution_count": 156,
   "metadata": {},
   "outputs": [
    {
     "name": "stdout",
     "output_type": "stream",
     "text": [
      "(117833, 15)\n"
     ]
    },
    {
     "data": {
      "text/html": [
       "<div>\n",
       "<style scoped>\n",
       "    .dataframe tbody tr th:only-of-type {\n",
       "        vertical-align: middle;\n",
       "    }\n",
       "\n",
       "    .dataframe tbody tr th {\n",
       "        vertical-align: top;\n",
       "    }\n",
       "\n",
       "    .dataframe thead th {\n",
       "        text-align: right;\n",
       "    }\n",
       "</style>\n",
       "<table border=\"1\" class=\"dataframe\">\n",
       "  <thead>\n",
       "    <tr style=\"text-align: right;\">\n",
       "      <th></th>\n",
       "      <th>Precip</th>\n",
       "      <th>MaxTemp</th>\n",
       "      <th>MinTemp</th>\n",
       "      <th>MeanTemp</th>\n",
       "      <th>Snowfall</th>\n",
       "      <th>PoorWeather</th>\n",
       "      <th>YR</th>\n",
       "      <th>MO</th>\n",
       "      <th>DA</th>\n",
       "      <th>PRCP</th>\n",
       "      <th>MAX</th>\n",
       "      <th>MIN</th>\n",
       "      <th>MEA</th>\n",
       "      <th>SNF</th>\n",
       "      <th>ELEV</th>\n",
       "    </tr>\n",
       "  </thead>\n",
       "  <tbody>\n",
       "    <tr>\n",
       "      <th>0</th>\n",
       "      <td>1.016</td>\n",
       "      <td>25.555556</td>\n",
       "      <td>22.222222</td>\n",
       "      <td>23.888889</td>\n",
       "      <td>0.0</td>\n",
       "      <td>NaN</td>\n",
       "      <td>42</td>\n",
       "      <td>7</td>\n",
       "      <td>1</td>\n",
       "      <td>0.04</td>\n",
       "      <td>78.0</td>\n",
       "      <td>72.0</td>\n",
       "      <td>75.0</td>\n",
       "      <td>0.0</td>\n",
       "      <td>62</td>\n",
       "    </tr>\n",
       "    <tr>\n",
       "      <th>1</th>\n",
       "      <td>0</td>\n",
       "      <td>28.888889</td>\n",
       "      <td>21.666667</td>\n",
       "      <td>25.555556</td>\n",
       "      <td>0.0</td>\n",
       "      <td>NaN</td>\n",
       "      <td>42</td>\n",
       "      <td>7</td>\n",
       "      <td>2</td>\n",
       "      <td>0</td>\n",
       "      <td>84.0</td>\n",
       "      <td>71.0</td>\n",
       "      <td>78.0</td>\n",
       "      <td>0.0</td>\n",
       "      <td>62</td>\n",
       "    </tr>\n",
       "    <tr>\n",
       "      <th>2</th>\n",
       "      <td>2.54</td>\n",
       "      <td>26.111111</td>\n",
       "      <td>22.222222</td>\n",
       "      <td>24.444444</td>\n",
       "      <td>0.0</td>\n",
       "      <td>NaN</td>\n",
       "      <td>42</td>\n",
       "      <td>7</td>\n",
       "      <td>3</td>\n",
       "      <td>0.1</td>\n",
       "      <td>79.0</td>\n",
       "      <td>72.0</td>\n",
       "      <td>76.0</td>\n",
       "      <td>0.0</td>\n",
       "      <td>62</td>\n",
       "    </tr>\n",
       "    <tr>\n",
       "      <th>3</th>\n",
       "      <td>2.54</td>\n",
       "      <td>26.666667</td>\n",
       "      <td>22.222222</td>\n",
       "      <td>24.444444</td>\n",
       "      <td>0.0</td>\n",
       "      <td>NaN</td>\n",
       "      <td>42</td>\n",
       "      <td>7</td>\n",
       "      <td>4</td>\n",
       "      <td>0.1</td>\n",
       "      <td>80.0</td>\n",
       "      <td>72.0</td>\n",
       "      <td>76.0</td>\n",
       "      <td>0.0</td>\n",
       "      <td>62</td>\n",
       "    </tr>\n",
       "    <tr>\n",
       "      <th>4</th>\n",
       "      <td>0</td>\n",
       "      <td>26.666667</td>\n",
       "      <td>21.666667</td>\n",
       "      <td>24.444444</td>\n",
       "      <td>0.0</td>\n",
       "      <td>NaN</td>\n",
       "      <td>42</td>\n",
       "      <td>7</td>\n",
       "      <td>5</td>\n",
       "      <td>0</td>\n",
       "      <td>80.0</td>\n",
       "      <td>71.0</td>\n",
       "      <td>76.0</td>\n",
       "      <td>0.0</td>\n",
       "      <td>62</td>\n",
       "    </tr>\n",
       "  </tbody>\n",
       "</table>\n",
       "</div>"
      ],
      "text/plain": [
       "  Precip    MaxTemp    MinTemp   MeanTemp  Snowfall PoorWeather  YR  MO  DA  \\\n",
       "0  1.016  25.555556  22.222222  23.888889       0.0         NaN  42   7   1   \n",
       "1      0  28.888889  21.666667  25.555556       0.0         NaN  42   7   2   \n",
       "2   2.54  26.111111  22.222222  24.444444       0.0         NaN  42   7   3   \n",
       "3   2.54  26.666667  22.222222  24.444444       0.0         NaN  42   7   4   \n",
       "4      0  26.666667  21.666667  24.444444       0.0         NaN  42   7   5   \n",
       "\n",
       "   PRCP   MAX   MIN   MEA  SNF  ELEV  \n",
       "0  0.04  78.0  72.0  75.0  0.0    62  \n",
       "1     0  84.0  71.0  78.0  0.0    62  \n",
       "2   0.1  79.0  72.0  76.0  0.0    62  \n",
       "3   0.1  80.0  72.0  76.0  0.0    62  \n",
       "4     0  80.0  71.0  76.0  0.0    62  "
      ]
     },
     "execution_count": 156,
     "metadata": {},
     "output_type": "execute_result"
    }
   ],
   "source": [
    "print(dataset.shape)\n",
    "dataset.head()"
   ]
  },
  {
   "cell_type": "code",
   "execution_count": 157,
   "metadata": {},
   "outputs": [
    {
     "name": "stdout",
     "output_type": "stream",
     "text": [
      "<class 'pandas.core.frame.DataFrame'>\n",
      "Int64Index: 117833 entries, 0 to 119039\n",
      "Data columns (total 15 columns):\n",
      " #   Column       Non-Null Count   Dtype  \n",
      "---  ------       --------------   -----  \n",
      " 0   Precip       117833 non-null  object \n",
      " 1   MaxTemp      117833 non-null  float64\n",
      " 2   MinTemp      117833 non-null  float64\n",
      " 3   MeanTemp     117833 non-null  float64\n",
      " 4   Snowfall     117833 non-null  float64\n",
      " 5   PoorWeather  33683 non-null   object \n",
      " 6   YR           117833 non-null  int64  \n",
      " 7   MO           117833 non-null  int64  \n",
      " 8   DA           117833 non-null  int64  \n",
      " 9   PRCP         116130 non-null  object \n",
      " 10  MAX          117371 non-null  float64\n",
      " 11  MIN          117378 non-null  float64\n",
      " 12  MEA          117348 non-null  float64\n",
      " 13  SNF          117833 non-null  object \n",
      " 14  ELEV         117833 non-null  int64  \n",
      "dtypes: float64(7), int64(4), object(4)\n",
      "memory usage: 14.4+ MB\n"
     ]
    }
   ],
   "source": [
    "dataset.info()"
   ]
  },
  {
   "cell_type": "code",
   "execution_count": 158,
   "metadata": {
    "scrolled": true
   },
   "outputs": [
    {
     "name": "stdout",
     "output_type": "stream",
     "text": [
      "['1.016' '0' '2.54' 'T' '3.556' '0.508' '0.254' '1.778' '3.302' '0.762'\n",
      " '5.588' '5.08' '2.032' '25.654' '40.132' '19.05' '23.876' '4.064'\n",
      " '12.192' '2.794' '33.274' '19.304' '47.752' '6.35' '3.048' '8.382'\n",
      " '10.16' '27.178' '30.48' '45.212' '10.668' '15.494' '57.658' '58.166'\n",
      " '11.43' '31.242' '17.78' '26.924' '26.67' '6.604' '5.334' '4.826' '7.62'\n",
      " '8.636' '7.874' '12.446' '90.932' '13.462' '11.938' '5.842' '4.318'\n",
      " '6.096' '9.144' '4.572' '9.906' '9.652' '1.524' '13.97' '17.272' '33.528'\n",
      " '1.27' '13.716' '8.128' '22.352' '39.116' '36.068' '98.044' '3.81'\n",
      " '14.986' '78.232' '146.304' '14.732' '21.844' '120.904' '42.164' '23.368'\n",
      " '21.082' '44.958' '2.286' '50.038' '17.526' '51.054' '7.112' '25.4'\n",
      " '7.366' '16.256' '46.736' '8.89' '24.638' '11.684' '17.018' '144.78'\n",
      " '18.034' '50.8' '106.426' '36.576' '53.34' '34.798' '12.954' '26.416'\n",
      " '85.598' '47.498' '12.7' '11.176' '59.182' '33.782' '40.894' '28.194'\n",
      " '24.892' '14.478' '71.628' '102.108' '31.496' '36.322' '37.846' '35.56'\n",
      " '31.75' '49.022' '69.85' '36.83' '19.558' '127.508' '64.77' '105.156'\n",
      " '16.002' '75.184' '143.51' '60.96' '68.58' '55.88' '23.622' '126.238'\n",
      " '70.358' '6.858' '16.764' '24.13' '52.832' '25.146' '74.676' '16.51'\n",
      " '65.024' '51.816' '13.208' '30.226' '29.972' '215.9' '21.336' '76.962'\n",
      " '29.464' '9.398' '15.748' '45.974' '41.148' '48.514' '33.02' '10.414'\n",
      " '18.796' '14.224' '68.326' '80.264' '70.866' '35.814' '22.86' '30.988'\n",
      " '20.828' '34.036' '20.066' '27.432' '62.23' '37.338' '55.372' '73.66'\n",
      " '18.288' '114.808' '56.388' '273.558' '27.686' '111.506' '101.346'\n",
      " '120.142' '116.586' '66.294' '32.766' '55.118' '30.734' '46.228' '68.072'\n",
      " '62.484' '72.644' '203.708' '15.24' '61.214' '48.768' '10.922' '54.61'\n",
      " '81.788' '38.1' '37.592' '18.542' '49.784' '32.258' '94.488' '67.818'\n",
      " '41.402' '22.606' '43.434' '27.94' '61.468' '25.908' '54.102' '52.578'\n",
      " '46.99' '177.8' '28.956' '119.38' '44.45' '85.344' '95.758' '91.948'\n",
      " '38.354' '39.624' '80.01' '40.386' '35.306' '88.646' '65.786' '136.398'\n",
      " '77.978' '116.84' '75.438' '69.596' '42.672' '39.37' '20.574' '39.878'\n",
      " '42.926' '38.608' '155.448' '140.716' '148.336' '19.812' '60.706'\n",
      " '97.028' '57.912' '72.898' '65.532' '71.882' '21.59' '22.098' '34.29'\n",
      " '35.052' '43.18' '50.546' '20.32' '70.612' '67.31' '28.448' '32.004'\n",
      " '48.006' '76.2' '37.084' '48.26' '43.942' '76.708' '52.07' '52.324'\n",
      " '120.396' '80.518' '63.5' '125.984' '116.332' '46.482' '76.454' '34.544'\n",
      " '42.418' '29.21' '81.28' '24.384' '58.674' '108.204' '173.736' '49.53'\n",
      " '225.298' '206.248' '162.052' '87.122' '88.138' '103.632' '82.804'\n",
      " '93.726' '28.702' '99.06' '61.976' '51.308' '110.998' '93.98' '107.442'\n",
      " '23.114' '92.456' '57.15' '84.074' '40.64' '62.738' '41.656' '32.512'\n",
      " '50.292' '26.162' '53.848' '73.914' '64.516' '38.862' '84.836' '103.886'\n",
      " '41.91' '56.896' '82.042' '66.548' '60.198' '53.086' '54.356' '45.72'\n",
      " '29.718' '43.688' '67.056' '70.104' '69.342' '86.868' '86.106' '58.42'\n",
      " '74.168' '68.834' '97.79' '44.704' '63.754' '56.134' '66.04' '85.852'\n",
      " '64.262' '85.09' '122.936' '44.196' '231.648' '83.058' '121.666' '56.642'\n",
      " '51.562' '113.538' '75.946' '102.362' '54.864' '78.994' '75.692' '94.742'\n",
      " '47.244' '74.422' '152.4' '71.374' '79.248' '130.048' '97.536' '99.314'\n",
      " '238.76' '102.87' '82.296' '94.234' '125.73' '59.436' '112.014' '182.372'\n",
      " '127' '88.392' '211.328' '82.55' '107.696' '73.406' '124.46' '163.83'\n",
      " '107.95' '62.992' '118.618' '136.652' '55.626' '101.092' '90.424'\n",
      " '57.404' '98.552' '90.678' '95.504' '159.512' '103.378' '139.446'\n",
      " '234.95' '133.35' '100.33' '63.246' '73.152' '81.534' '157.48' '64.008'\n",
      " '77.47' '77.216' '59.69' '71.12' '124.206' '59.944' '104.394' '253.238'\n",
      " '86.614' '49.276' '77.724' '123.698' '106.68' '97.282' '45.466' '126.492'\n",
      " '53.594' '123.952' '65.278' '92.71' '79.756' '166.624' '74.93' '95.25'\n",
      " '61.722' '148.59' '248.92' '100.584' '147.828' '257.048' '307.34'\n",
      " '184.15' '87.376' '134.874' '206.756' '110.744' '79.502' '67.564'\n",
      " '81.026' '89.408' '164.338' '101.854' '90.17' '134.62' '58.928' '83.82'\n",
      " '121.92' '69.088' '91.694' '60.452' '105.41' '143.002' '137.922' '87.884'\n",
      " '88.9' '112.776' '78.486' '72.136' '194.564' '112.522' '134.112'\n",
      " '128.778' '83.312' '96.774' '168.656' '78.74' '117.348' '80.772'\n",
      " '125.222' '182.626' '132.588' '209.804' '116.078' '89.154' '129.54'\n",
      " '96.266' '86.36' '117.602' '83.566' '92.964' '109.982' '92.202' '149.352'\n",
      " '66.802' '122.174' '233.172' '200.406' '124.968' '89.916' '139.954'\n",
      " '184.404' '91.44' '89.662' '100.838' '101.6' '119.634' '98.298' '94.996'\n",
      " '132.842' '84.328' '130.556' '99.822' '109.728' '91.186' '96.52'\n",
      " '106.172' '72.39' '104.648' '238.506' '139.192' '132.334' '113.03'\n",
      " '175.006' '124.714' '150.114' '125.476' '119.888' '133.858' '167.386'\n",
      " '114.554' '115.316' '84.582' '185.166' '104.902' '111.252' '164.846'\n",
      " '118.872' '167.64' '163.322' '111.76' '104.14' '194.31' '140.208'\n",
      " '110.236' '153.162' '165.1' '242.316' '154.686' '105.918' '133.096'\n",
      " '161.036']\n",
      "16474\n"
     ]
    }
   ],
   "source": [
    "# Removing unnecessary values\n",
    "\n",
    "print(dataset['Precip'].unique())\n",
    "print(len(dataset.loc[dataset['Precip']=='T'].index))\n",
    "dataset.drop(dataset.loc[dataset['Precip']=='T'].index, inplace=True)\n",
    "#dataset['Precip'] = dataset['Precip'].astype(float)\n",
    "#dataset.loc[dataset['Precip']=='T']=float(1)"
   ]
  },
  {
   "cell_type": "code",
   "execution_count": 159,
   "metadata": {
    "scrolled": true
   },
   "outputs": [
    {
     "name": "stdout",
     "output_type": "stream",
     "text": [
      "539\n",
      "['1.016' '0' '2.54' '3.556' '0.508' '0.254' '1.778' '3.302' '0.762'\n",
      " '5.588' '5.08' '2.032' '25.654' '40.132' '19.05' '23.876' '4.064'\n",
      " '12.192' '2.794' '33.274' '19.304' '47.752' '6.35' '3.048' '8.382'\n",
      " '10.16' '27.178' '30.48' '45.212' '10.668' '15.494' '57.658' '58.166'\n",
      " '11.43' '31.242' '17.78' '26.924' '26.67' '6.604' '5.334' '4.826' '7.62'\n",
      " '8.636' '7.874' '12.446' '90.932' '13.462' '11.938' '5.842' '4.318'\n",
      " '6.096' '9.144' '4.572' '9.906' '9.652' '1.524' '13.97' '17.272' '33.528'\n",
      " '1.27' '13.716' '8.128' '22.352' '39.116' '36.068' '98.044' '3.81'\n",
      " '14.986' '78.232' '146.304' '14.732' '21.844' '120.904' '42.164' '23.368'\n",
      " '21.082' '44.958' '2.286' '50.038' '17.526' '51.054' '7.112' '25.4'\n",
      " '7.366' '16.256' '46.736' '8.89' '24.638' '11.684' '17.018' '144.78'\n",
      " '18.034' '50.8' '106.426' '36.576' '53.34' '34.798' '12.954' '26.416'\n",
      " '85.598' '47.498' '12.7' '11.176' '59.182' '33.782' '40.894' '28.194'\n",
      " '24.892' '14.478' '71.628' '102.108' '31.496' '36.322' '37.846' '35.56'\n",
      " '31.75' '49.022' '69.85' '36.83' '19.558' '127.508' '64.77' '105.156'\n",
      " '16.002' '75.184' '143.51' '60.96' '68.58' '55.88' '23.622' '126.238'\n",
      " '70.358' '6.858' '16.764' '24.13' '52.832' '25.146' '74.676' '16.51'\n",
      " '65.024' '51.816' '13.208' '30.226' '29.972' '215.9' '21.336' '76.962'\n",
      " '29.464' '9.398' '15.748' '45.974' '41.148' '48.514' '33.02' '10.414'\n",
      " '18.796' '14.224' '68.326' '80.264' '70.866' '35.814' '22.86' '30.988'\n",
      " '20.828' '34.036' '20.066' '27.432' '62.23' '37.338' '55.372' '73.66'\n",
      " '18.288' '114.808' '56.388' '273.558' '27.686' '111.506' '101.346'\n",
      " '120.142' '116.586' '66.294' '32.766' '55.118' '30.734' '46.228' '68.072'\n",
      " '62.484' '72.644' '203.708' '15.24' '61.214' '48.768' '10.922' '54.61'\n",
      " '81.788' '38.1' '37.592' '18.542' '49.784' '32.258' '94.488' '67.818'\n",
      " '41.402' '22.606' '43.434' '27.94' '61.468' '25.908' '54.102' '52.578'\n",
      " '46.99' '177.8' '28.956' '119.38' '44.45' '85.344' '95.758' '91.948'\n",
      " '38.354' '39.624' '80.01' '40.386' '35.306' '88.646' '65.786' '136.398'\n",
      " '77.978' '116.84' '75.438' '69.596' '42.672' '39.37' '20.574' '39.878'\n",
      " '42.926' '38.608' '155.448' '140.716' '148.336' '19.812' '60.706'\n",
      " '97.028' '57.912' '72.898' '65.532' '71.882' '21.59' '22.098' '34.29'\n",
      " '35.052' '43.18' '50.546' '20.32' '70.612' '67.31' '28.448' '32.004'\n",
      " '48.006' '76.2' '37.084' '48.26' '43.942' '76.708' '52.07' '52.324'\n",
      " '120.396' '80.518' '63.5' '125.984' '116.332' '46.482' '76.454' '34.544'\n",
      " '42.418' '29.21' '81.28' '24.384' '58.674' '108.204' '173.736' '49.53'\n",
      " '225.298' '206.248' '162.052' '87.122' '88.138' '103.632' '82.804'\n",
      " '93.726' '28.702' '99.06' '61.976' '51.308' '110.998' '93.98' '107.442'\n",
      " '23.114' '92.456' '57.15' '84.074' '40.64' '62.738' '41.656' '32.512'\n",
      " '50.292' '26.162' '53.848' '73.914' '64.516' '38.862' '84.836' '103.886'\n",
      " '41.91' '56.896' '82.042' '66.548' '60.198' '53.086' '54.356' '45.72'\n",
      " '29.718' '43.688' '67.056' '70.104' '69.342' '86.868' '86.106' '58.42'\n",
      " '74.168' '68.834' '97.79' '44.704' '63.754' '56.134' '66.04' '85.852'\n",
      " '64.262' '85.09' '122.936' '44.196' '231.648' '83.058' '121.666' '56.642'\n",
      " '51.562' '113.538' '75.946' '102.362' '54.864' '78.994' '75.692' '94.742'\n",
      " '47.244' '74.422' '152.4' '71.374' '79.248' '130.048' '97.536' '99.314'\n",
      " '238.76' '102.87' '82.296' '94.234' '125.73' '59.436' '112.014' '182.372'\n",
      " '127' '88.392' '211.328' '82.55' '107.696' '73.406' '124.46' '163.83'\n",
      " '107.95' '62.992' '118.618' '136.652' '55.626' '101.092' '90.424'\n",
      " '57.404' '98.552' '90.678' '95.504' '159.512' '103.378' '139.446'\n",
      " '234.95' '133.35' '100.33' '63.246' '73.152' '81.534' '157.48' '64.008'\n",
      " '77.47' '77.216' '59.69' '71.12' '124.206' '59.944' '104.394' '253.238'\n",
      " '86.614' '49.276' '77.724' '123.698' '106.68' '97.282' '45.466' '126.492'\n",
      " '53.594' '123.952' '65.278' '92.71' '79.756' '166.624' '74.93' '95.25'\n",
      " '61.722' '148.59' '248.92' '100.584' '147.828' '257.048' '307.34'\n",
      " '184.15' '87.376' '134.874' '206.756' '110.744' '79.502' '67.564'\n",
      " '81.026' '89.408' '164.338' '101.854' '90.17' '134.62' '58.928' '83.82'\n",
      " '121.92' '69.088' '91.694' '60.452' '105.41' '143.002' '137.922' '87.884'\n",
      " '88.9' '112.776' '78.486' '72.136' '194.564' '112.522' '134.112'\n",
      " '128.778' '83.312' '96.774' '168.656' '78.74' '117.348' '80.772'\n",
      " '125.222' '182.626' '132.588' '209.804' '116.078' '89.154' '129.54'\n",
      " '96.266' '86.36' '117.602' '83.566' '92.964' '109.982' '92.202' '149.352'\n",
      " '66.802' '122.174' '233.172' '200.406' '124.968' '89.916' '139.954'\n",
      " '184.404' '91.44' '89.662' '100.838' '101.6' '119.634' '98.298' '94.996'\n",
      " '132.842' '84.328' '130.556' '99.822' '109.728' '91.186' '96.52'\n",
      " '106.172' '72.39' '104.648' '238.506' '139.192' '132.334' '113.03'\n",
      " '175.006' '124.714' '150.114' '125.476' '119.888' '133.858' '167.386'\n",
      " '114.554' '115.316' '84.582' '185.166' '104.902' '111.252' '164.846'\n",
      " '118.872' '167.64' '163.322' '111.76' '104.14' '194.31' '140.208'\n",
      " '110.236' '153.162' '165.1' '242.316' '154.686' '105.918' '133.096'\n",
      " '161.036']\n"
     ]
    }
   ],
   "source": [
    "print(len(dataset['Precip'].unique()))\n",
    "print(dataset['Precip'].unique())\n",
    "dataset['Precip'] = dataset['Precip'].astype(float)"
   ]
  },
  {
   "cell_type": "code",
   "execution_count": 160,
   "metadata": {},
   "outputs": [
    {
     "data": {
      "text/plain": [
       "count    101359.000000\n",
       "mean          3.769060\n",
       "std          11.603681\n",
       "min           0.000000\n",
       "25%           0.000000\n",
       "50%           0.000000\n",
       "75%           1.524000\n",
       "max         307.340000\n",
       "Name: Precip, dtype: float64"
      ]
     },
     "execution_count": 160,
     "metadata": {},
     "output_type": "execute_result"
    }
   ],
   "source": [
    "dataset['Precip'].describe()"
   ]
  },
  {
   "cell_type": "code",
   "execution_count": 161,
   "metadata": {},
   "outputs": [
    {
     "name": "stdout",
     "output_type": "stream",
     "text": [
      "count     24073\n",
      "unique       38\n",
      "top           1\n",
      "freq      18143\n",
      "Name: PoorWeather, dtype: object\n",
      "[nan '1' '1     1' '1 1' '1     1  1' '1  1' '0' '1   1 1' '1    1'\n",
      " '1     0' '100000' '1000001001' '101000' '1000101001' '100001'\n",
      " '1000000000' '1000001000' '1010001000' '1000' '1000100000' '1000101000'\n",
      " '1000100001' '101001' '1010001001' '1001' '10001001' '11' '11    1'\n",
      " '1100000' '1 1  1' '1 0  1' '1 0' '1000000' '1101000' '1101001'\n",
      " '1   1 1  1' '1   1' '11 1' 1.0]\n"
     ]
    }
   ],
   "source": [
    "print(dataset['PoorWeather'].describe())\n",
    "print(dataset['PoorWeather'].unique())\n",
    "dataset['PoorWeather'] = dataset['PoorWeather'].astype(str)"
   ]
  },
  {
   "cell_type": "code",
   "execution_count": 162,
   "metadata": {},
   "outputs": [
    {
     "name": "stdout",
     "output_type": "stream",
     "text": [
      "77286\n",
      "825\n",
      "18143\n"
     ]
    }
   ],
   "source": [
    "# Removing unnecessary values\n",
    "\n",
    "print(len(dataset.loc[dataset['PoorWeather']=='nan'].index))\n",
    "print(len(dataset.loc[dataset['PoorWeather']=='0'].index))\n",
    "print(len(dataset.loc[dataset['PoorWeather']=='1'].index))"
   ]
  },
  {
   "cell_type": "code",
   "execution_count": 163,
   "metadata": {},
   "outputs": [],
   "source": [
    "# Filling nan values with 0\n",
    "\n",
    "dataset.loc[dataset['PoorWeather']=='nan'] = '0'"
   ]
  },
  {
   "cell_type": "code",
   "execution_count": 164,
   "metadata": {},
   "outputs": [
    {
     "data": {
      "text/plain": [
       "array(['0', '1', '1     1', '1 1', '1     1  1', '1  1', '1   1 1',\n",
       "       '1    1', '1     0', '100000', '1000001001', '101000',\n",
       "       '1000101001', '100001', '1000000000', '1000001000', '1010001000',\n",
       "       '1000', '1000100000', '1000101000', '1000100001', '101001',\n",
       "       '1010001001', '1001', '10001001', '11', '11    1', '1100000',\n",
       "       '1 1  1', '1 0  1', '1 0', '1000000', '1101000', '1101001',\n",
       "       '1   1 1  1', '1   1', '11 1', '1.0'], dtype=object)"
      ]
     },
     "execution_count": 164,
     "metadata": {},
     "output_type": "execute_result"
    }
   ],
   "source": [
    "dataset['PoorWeather'].unique()"
   ]
  },
  {
   "cell_type": "code",
   "execution_count": 165,
   "metadata": {},
   "outputs": [],
   "source": [
    "# Classification function for PoorWeather\n",
    "\n",
    "def classification_func_poorWeather(x):\n",
    "    try:\n",
    "        if float(x)==float(0):\n",
    "            return 0\n",
    "        else:\n",
    "            return 1\n",
    "    except:\n",
    "        return 1"
   ]
  },
  {
   "cell_type": "code",
   "execution_count": 166,
   "metadata": {},
   "outputs": [],
   "source": [
    "# Encoding PoorWeatherColumn\n",
    "dataset['PoorWeather'] = dataset['PoorWeather'].map(classification_func_poorWeather).astype(float)"
   ]
  },
  {
   "cell_type": "code",
   "execution_count": 167,
   "metadata": {},
   "outputs": [
    {
     "name": "stdout",
     "output_type": "stream",
     "text": [
      "[0. 1.]\n",
      "78111\n",
      "23248\n"
     ]
    }
   ],
   "source": [
    "print(dataset['PoorWeather'].unique())\n",
    "print(len(dataset.loc[dataset['PoorWeather']==float(0)].index))\n",
    "print(len(dataset.loc[dataset['PoorWeather']==float(1)].index))"
   ]
  },
  {
   "cell_type": "code",
   "execution_count": 168,
   "metadata": {},
   "outputs": [
    {
     "name": "stdout",
     "output_type": "stream",
     "text": [
      "<class 'pandas.core.frame.DataFrame'>\n",
      "Int64Index: 101359 entries, 0 to 119039\n",
      "Data columns (total 15 columns):\n",
      " #   Column       Non-Null Count   Dtype  \n",
      "---  ------       --------------   -----  \n",
      " 0   Precip       101359 non-null  object \n",
      " 1   MaxTemp      101359 non-null  object \n",
      " 2   MinTemp      101359 non-null  object \n",
      " 3   MeanTemp     101359 non-null  object \n",
      " 4   Snowfall     101359 non-null  object \n",
      " 5   PoorWeather  101359 non-null  float64\n",
      " 6   YR           101359 non-null  object \n",
      " 7   MO           101359 non-null  object \n",
      " 8   DA           101359 non-null  object \n",
      " 9   PRCP         101293 non-null  object \n",
      " 10  MAX          101346 non-null  object \n",
      " 11  MIN          101349 non-null  object \n",
      " 12  MEA          101344 non-null  object \n",
      " 13  SNF          101359 non-null  object \n",
      " 14  ELEV         101359 non-null  object \n",
      "dtypes: float64(1), object(14)\n",
      "memory usage: 12.4+ MB\n"
     ]
    }
   ],
   "source": [
    "dataset.info()"
   ]
  },
  {
   "cell_type": "code",
   "execution_count": 169,
   "metadata": {},
   "outputs": [],
   "source": [
    "# Changing dtype from object to float\n",
    "\n",
    "dataset['Precip'] = dataset['Precip'].astype(float)\n",
    "dataset['MaxTemp'] = dataset['MaxTemp'].astype(float)\n",
    "dataset['MinTemp'] = dataset['MinTemp'].astype(float)\n",
    "dataset['MeanTemp'] = dataset['MeanTemp'].astype(float)\n",
    "dataset['Snowfall'] = dataset['Snowfall'].astype(float)"
   ]
  },
  {
   "cell_type": "code",
   "execution_count": 170,
   "metadata": {},
   "outputs": [
    {
     "data": {
      "text/html": [
       "<div>\n",
       "<style scoped>\n",
       "    .dataframe tbody tr th:only-of-type {\n",
       "        vertical-align: middle;\n",
       "    }\n",
       "\n",
       "    .dataframe tbody tr th {\n",
       "        vertical-align: top;\n",
       "    }\n",
       "\n",
       "    .dataframe thead th {\n",
       "        text-align: right;\n",
       "    }\n",
       "</style>\n",
       "<table border=\"1\" class=\"dataframe\">\n",
       "  <thead>\n",
       "    <tr style=\"text-align: right;\">\n",
       "      <th></th>\n",
       "      <th>Precip</th>\n",
       "      <th>MaxTemp</th>\n",
       "      <th>MinTemp</th>\n",
       "      <th>MeanTemp</th>\n",
       "      <th>Snowfall</th>\n",
       "      <th>PoorWeather</th>\n",
       "      <th>YR</th>\n",
       "      <th>MO</th>\n",
       "      <th>DA</th>\n",
       "      <th>PRCP</th>\n",
       "      <th>MAX</th>\n",
       "      <th>MIN</th>\n",
       "      <th>MEA</th>\n",
       "      <th>SNF</th>\n",
       "      <th>ELEV</th>\n",
       "    </tr>\n",
       "  </thead>\n",
       "  <tbody>\n",
       "    <tr>\n",
       "      <th>0</th>\n",
       "      <td>0.0</td>\n",
       "      <td>0.0</td>\n",
       "      <td>0.0</td>\n",
       "      <td>0.0</td>\n",
       "      <td>0.0</td>\n",
       "      <td>0.0</td>\n",
       "      <td>0</td>\n",
       "      <td>0</td>\n",
       "      <td>0</td>\n",
       "      <td>0</td>\n",
       "      <td>0</td>\n",
       "      <td>0</td>\n",
       "      <td>0</td>\n",
       "      <td>0</td>\n",
       "      <td>0</td>\n",
       "    </tr>\n",
       "    <tr>\n",
       "      <th>1</th>\n",
       "      <td>0.0</td>\n",
       "      <td>0.0</td>\n",
       "      <td>0.0</td>\n",
       "      <td>0.0</td>\n",
       "      <td>0.0</td>\n",
       "      <td>0.0</td>\n",
       "      <td>0</td>\n",
       "      <td>0</td>\n",
       "      <td>0</td>\n",
       "      <td>0</td>\n",
       "      <td>0</td>\n",
       "      <td>0</td>\n",
       "      <td>0</td>\n",
       "      <td>0</td>\n",
       "      <td>0</td>\n",
       "    </tr>\n",
       "    <tr>\n",
       "      <th>2</th>\n",
       "      <td>0.0</td>\n",
       "      <td>0.0</td>\n",
       "      <td>0.0</td>\n",
       "      <td>0.0</td>\n",
       "      <td>0.0</td>\n",
       "      <td>0.0</td>\n",
       "      <td>0</td>\n",
       "      <td>0</td>\n",
       "      <td>0</td>\n",
       "      <td>0</td>\n",
       "      <td>0</td>\n",
       "      <td>0</td>\n",
       "      <td>0</td>\n",
       "      <td>0</td>\n",
       "      <td>0</td>\n",
       "    </tr>\n",
       "    <tr>\n",
       "      <th>3</th>\n",
       "      <td>0.0</td>\n",
       "      <td>0.0</td>\n",
       "      <td>0.0</td>\n",
       "      <td>0.0</td>\n",
       "      <td>0.0</td>\n",
       "      <td>0.0</td>\n",
       "      <td>0</td>\n",
       "      <td>0</td>\n",
       "      <td>0</td>\n",
       "      <td>0</td>\n",
       "      <td>0</td>\n",
       "      <td>0</td>\n",
       "      <td>0</td>\n",
       "      <td>0</td>\n",
       "      <td>0</td>\n",
       "    </tr>\n",
       "    <tr>\n",
       "      <th>4</th>\n",
       "      <td>0.0</td>\n",
       "      <td>0.0</td>\n",
       "      <td>0.0</td>\n",
       "      <td>0.0</td>\n",
       "      <td>0.0</td>\n",
       "      <td>0.0</td>\n",
       "      <td>0</td>\n",
       "      <td>0</td>\n",
       "      <td>0</td>\n",
       "      <td>0</td>\n",
       "      <td>0</td>\n",
       "      <td>0</td>\n",
       "      <td>0</td>\n",
       "      <td>0</td>\n",
       "      <td>0</td>\n",
       "    </tr>\n",
       "  </tbody>\n",
       "</table>\n",
       "</div>"
      ],
      "text/plain": [
       "   Precip  MaxTemp  MinTemp  MeanTemp  Snowfall  PoorWeather YR MO DA PRCP  \\\n",
       "0     0.0      0.0      0.0       0.0       0.0          0.0  0  0  0    0   \n",
       "1     0.0      0.0      0.0       0.0       0.0          0.0  0  0  0    0   \n",
       "2     0.0      0.0      0.0       0.0       0.0          0.0  0  0  0    0   \n",
       "3     0.0      0.0      0.0       0.0       0.0          0.0  0  0  0    0   \n",
       "4     0.0      0.0      0.0       0.0       0.0          0.0  0  0  0    0   \n",
       "\n",
       "  MAX MIN MEA SNF ELEV  \n",
       "0   0   0   0   0    0  \n",
       "1   0   0   0   0    0  \n",
       "2   0   0   0   0    0  \n",
       "3   0   0   0   0    0  \n",
       "4   0   0   0   0    0  "
      ]
     },
     "execution_count": 170,
     "metadata": {},
     "output_type": "execute_result"
    }
   ],
   "source": [
    "dataset.head()"
   ]
  },
  {
   "cell_type": "code",
   "execution_count": 171,
   "metadata": {},
   "outputs": [
    {
     "name": "stdout",
     "output_type": "stream",
     "text": [
      "<class 'pandas.core.frame.DataFrame'>\n",
      "Int64Index: 101359 entries, 0 to 119039\n",
      "Data columns (total 15 columns):\n",
      " #   Column       Non-Null Count   Dtype  \n",
      "---  ------       --------------   -----  \n",
      " 0   Precip       101359 non-null  float64\n",
      " 1   MaxTemp      101359 non-null  float64\n",
      " 2   MinTemp      101359 non-null  float64\n",
      " 3   MeanTemp     101359 non-null  float64\n",
      " 4   Snowfall     101359 non-null  float64\n",
      " 5   PoorWeather  101359 non-null  float64\n",
      " 6   YR           101359 non-null  object \n",
      " 7   MO           101359 non-null  object \n",
      " 8   DA           101359 non-null  object \n",
      " 9   PRCP         101293 non-null  object \n",
      " 10  MAX          101346 non-null  object \n",
      " 11  MIN          101349 non-null  object \n",
      " 12  MEA          101344 non-null  object \n",
      " 13  SNF          101359 non-null  object \n",
      " 14  ELEV         101359 non-null  object \n",
      "dtypes: float64(6), object(9)\n",
      "memory usage: 12.4+ MB\n"
     ]
    }
   ],
   "source": [
    "dataset.info()"
   ]
  },
  {
   "cell_type": "code",
   "execution_count": 172,
   "metadata": {},
   "outputs": [
    {
     "name": "stdout",
     "output_type": "stream",
     "text": [
      "['0' 62 9999 29 9 24 5 10 16 14 22 23 1132 6 21 55 8 41 63 1486 443 235\n",
      " 123 4 48 49 461 460 564 3 50 11 2 42 271 475 354 2326 17 897 86 1 53 167\n",
      " 228 98 115 7 93 111 75 611 88 754 114 13 26 110 71 783 20 45 1727 1340\n",
      " 105 12 18 100 74 83 28 67 129 146 43 77 101 27 38 47 30 40 188 187]\n",
      "['0' 43 44 45 41 42]\n",
      "['0' 8 9 10 11 12 1 2 3 4 5 6 7]\n",
      "['0' 8 25 26 27 31 1 4 5 9 10 19 28 30 2 3 6 7 17 20 13 15 23 16 21 14 22\n",
      " 24 18 29 11 12]\n"
     ]
    }
   ],
   "source": [
    "print(dataset['ELEV'].unique())\n",
    "print(dataset['YR'].unique())\n",
    "print(dataset['MO'].unique())\n",
    "print(dataset['DA'].unique())"
   ]
  },
  {
   "cell_type": "code",
   "execution_count": 173,
   "metadata": {},
   "outputs": [],
   "source": [
    "# Changing dtype from object to int\n",
    "\n",
    "dataset['ELEV'] = dataset['ELEV'].astype(int)\n",
    "dataset['YR'] = dataset['YR'].astype(int)\n",
    "dataset['MO'] = dataset['MO'].astype(int)\n",
    "dataset['DA'] = dataset['DA'].astype(int)"
   ]
  },
  {
   "cell_type": "code",
   "execution_count": 41,
   "metadata": {},
   "outputs": [
    {
     "name": "stdout",
     "output_type": "stream",
     "text": [
      "False\n",
      "False\n",
      "False\n",
      "False\n"
     ]
    }
   ],
   "source": [
    "print(dataset['ELEV'].isnull().values.any())\n",
    "print(dataset['YR'].isnull().values.any())\n",
    "print(dataset['MO'].isnull().values.any())\n",
    "print(dataset['DA'].isnull().values.any())"
   ]
  },
  {
   "cell_type": "code",
   "execution_count": 42,
   "metadata": {},
   "outputs": [
    {
     "name": "stdout",
     "output_type": "stream",
     "text": [
      "True\n",
      "True\n",
      "True\n",
      "101359\n",
      "13\n",
      "10\n",
      "15\n"
     ]
    }
   ],
   "source": [
    "#print(dataset['MAX'].unique())\n",
    "#print(dataset['MIN'].unique())\n",
    "#print(dataset['MEA'].unique())\n",
    "\n",
    "print(dataset['MAX'].isnull().values.any())\n",
    "print(dataset['MIN'].isnull().values.any())\n",
    "print(dataset['MEA'].isnull().values.any())\n",
    "\n",
    "print(len(dataset))\n",
    "\n",
    "dataset['MAX'] = dataset['MAX'].astype(str)\n",
    "dataset['MIN'] = dataset['MIN'].astype(str)\n",
    "dataset['MEA'] = dataset['MEA'].astype(str)\n",
    "\n",
    "print(len(dataset.loc[dataset['MAX']=='nan']))\n",
    "print(len(dataset.loc[dataset['MIN']=='nan']))\n",
    "print(len(dataset.loc[dataset['MEA']=='nan']))\n",
    "\n",
    "dataset.drop(dataset.loc[dataset['MAX']=='nan'].index, inplace=True)\n",
    "dataset.drop(dataset.loc[dataset['MIN']=='nan'].index, inplace=True)\n",
    "dataset.drop(dataset.loc[dataset['MEA']=='nan'].index, inplace=True)"
   ]
  },
  {
   "cell_type": "code",
   "execution_count": 43,
   "metadata": {},
   "outputs": [
    {
     "name": "stdout",
     "output_type": "stream",
     "text": [
      "0\n",
      "0\n",
      "0\n",
      "['0' '76.0' '77.0' '78.0' '80.0' '81.0' '82.0' '79.0' '84.0' '83.0' '88.0'\n",
      " '86.0' '85.0' '90.0' '89.0' '87.0' '92.0' '91.0' '93.0' '95.0' '75.0'\n",
      " '94.0' '97.0' '98.0' '96.0' '74.0' '73.0' '72.0' '70.0' '65.0' '63.0'\n",
      " '71.0' '66.0' '69.0' '67.0' '68.0' '62.0' '103.0' '106.0' '64.0' '101.0'\n",
      " '104.0' '102.0' '105.0' '99.0' '100.0' '107.0' '108.0' '112.0' '110.0'\n",
      " '115.0' '60.0' '58.0' '57.0' '54.0' '55.0' '56.0' '53.0' '61.0' '52.0'\n",
      " '50.0' '47.0' '113.0' '59.0' '51.0' '44.0' '46.0' '49.0' '48.0' '45.0'\n",
      " '22.0' '24.0' '19.0' '30.0' '39.0' '27.0' '43.0' '34.0' '41.0' '38.0'\n",
      " '40.0' '42.0' '37.0' '31.0' '36.0' '29.0' '25.0' '32.0' '35.0' '33.0'\n",
      " '23.0' '28.0' '17.0' '20.0' '26.0' '13.0' '16.0' '18.0' '21.0' '11.0'\n",
      " '10.0' '14.0' '6.0' '8.0' '-3.0' '2.0' '-17.0' '-8.0' '-4.0' '9.0' '15.0'\n",
      " '12.0' '4.0' '1.0' '-7.0' '-14.0' '-1.0' '5.0' '109.0' '117.0' '114.0']\n",
      "['0' '70.0' '71.0' '68.0' '69.0' '72.0' '73.0' '75.0' '74.0' '76.0' '77.0'\n",
      " '79.0' '78.0' '80.0' '66.0' '67.0' '65.0' '64.0' '60.0' '58.0' '61.0'\n",
      " '62.0' '59.0' '56.0' '63.0' '57.0' '81.0' '54.0' '52.0' '53.0' '55.0'\n",
      " '50.0' '47.0' '82.0' '86.0' '83.0' '85.0' '51.0' '43.0' '46.0' '48.0'\n",
      " '42.0' '44.0' '39.0' '41.0' '38.0' '45.0' '49.0' '40.0' '34.0' '35.0'\n",
      " '37.0' '32.0' '31.0' '30.0' '36.0' '33.0' '9.0' '8.0' '13.0' '10.0'\n",
      " '26.0' '20.0' '27.0' '29.0' '25.0' '21.0' '22.0' '23.0' '11.0' '28.0'\n",
      " '18.0' '19.0' '14.0' '24.0' '6.0' '7.0' '17.0' '12.0' '2.0' '4.0' '15.0'\n",
      " '0.0' '1.0' '3.0' '-4.0' '-8.0' '16.0' '-3.0' '-1.0' '5.0' '-9.0' '-6.0'\n",
      " '-2.0' '-13.0' '-20.0' '-29.0' '-21.0' '-11.0' '-17.0' '-7.0' '-10.0'\n",
      " '-14.0' '-18.0' '-25.0' '-15.0' '-5.0' '-12.0' '84.0' '89.0' '88.0'\n",
      " '87.0']\n",
      "['0' '73.0' '74.0' '75.0' '76.0' '77.0' '78.0' '79.0' '81.0' '80.0' '82.0'\n",
      " '83.0' '84.0' '86.0' '72.0' '85.0' '70.0' '68.0' '67.0' '69.0' '71.0'\n",
      " '66.0' '64.0' '60.0' '62.0' '63.0' '61.0' '65.0' '59.0' '90.0' '88.0'\n",
      " '57.0' '93.0' '87.0' '92.0' '95.0' '97.0' '89.0' '96.0' '94.0' '98.0'\n",
      " '52.0' '54.0' '58.0' '56.0' '50.0' '48.0' '49.0' '55.0' '51.0' '53.0'\n",
      " '46.0' '47.0' '42.0' '44.0' '40.0' '39.0' '43.0' '38.0' '41.0' '45.0'\n",
      " '16.0' '20.0' '35.0' '18.0' '37.0' '36.0' '22.0' '30.0' '34.0' '28.0'\n",
      " '26.0' '27.0' '21.0' '29.0' '23.0' '33.0' '32.0' '24.0' '25.0' '31.0'\n",
      " '17.0' '13.0' '10.0' '12.0' '6.0' '14.0' '19.0' '9.0' '15.0' '11.0' '1.0'\n",
      " '5.0' '8.0' '2.0' '3.0' '-8.0' '-9.0' '-23.0' '-14.0' '-7.0' '-10.0'\n",
      " '7.0' '0.0' '-4.0' '4.0' '-6.0' '-12.0' '-20.0' '-2.0' '91.0' '100.0']\n"
     ]
    }
   ],
   "source": [
    "print(len(dataset.loc[dataset['MAX']=='nan']))\n",
    "print(len(dataset.loc[dataset['MIN']=='nan']))\n",
    "print(len(dataset.loc[dataset['MEA']=='nan']))\n",
    "\n",
    "print(dataset['MAX'].unique())\n",
    "print(dataset['MIN'].unique())\n",
    "print(dataset['MEA'].unique())"
   ]
  },
  {
   "cell_type": "code",
   "execution_count": 44,
   "metadata": {},
   "outputs": [],
   "source": [
    "# Changing dtype from object to float\n",
    "\n",
    "dataset['MAX'] = dataset['MAX'].astype(float)\n",
    "dataset['MIN'] = dataset['MIN'].astype(float)\n",
    "dataset['MEA'] = dataset['MEA'].astype(float)"
   ]
  },
  {
   "cell_type": "code",
   "execution_count": 45,
   "metadata": {},
   "outputs": [
    {
     "name": "stdout",
     "output_type": "stream",
     "text": [
      "<class 'pandas.core.frame.DataFrame'>\n",
      "Int64Index: 101344 entries, 0 to 119039\n",
      "Data columns (total 15 columns):\n",
      " #   Column       Non-Null Count   Dtype  \n",
      "---  ------       --------------   -----  \n",
      " 0   Precip       101344 non-null  float64\n",
      " 1   MaxTemp      101344 non-null  float64\n",
      " 2   MinTemp      101344 non-null  float64\n",
      " 3   MeanTemp     101344 non-null  float64\n",
      " 4   Snowfall     101344 non-null  float64\n",
      " 5   PoorWeather  101344 non-null  float64\n",
      " 6   YR           101344 non-null  int32  \n",
      " 7   MO           101344 non-null  int32  \n",
      " 8   DA           101344 non-null  int32  \n",
      " 9   PRCP         101278 non-null  object \n",
      " 10  MAX          101344 non-null  float64\n",
      " 11  MIN          101344 non-null  float64\n",
      " 12  MEA          101344 non-null  float64\n",
      " 13  SNF          101344 non-null  object \n",
      " 14  ELEV         101344 non-null  int32  \n",
      "dtypes: float64(9), int32(4), object(2)\n",
      "memory usage: 10.8+ MB\n"
     ]
    }
   ],
   "source": [
    "dataset.info()"
   ]
  },
  {
   "cell_type": "code",
   "execution_count": 46,
   "metadata": {},
   "outputs": [
    {
     "name": "stdout",
     "output_type": "stream",
     "text": [
      "(101344, 15)\n",
      "True\n"
     ]
    }
   ],
   "source": [
    "print(dataset.shape)\n",
    "print(dataset.isnull().values.any())"
   ]
  },
  {
   "cell_type": "code",
   "execution_count": 47,
   "metadata": {},
   "outputs": [],
   "source": [
    "# Changing dtype from object to float\n",
    "\n",
    "dataset['PRCP'] = dataset['PRCP'].astype(float)\n",
    "dataset['SNF'] = dataset['SNF'].astype(float)"
   ]
  },
  {
   "cell_type": "code",
   "execution_count": 48,
   "metadata": {},
   "outputs": [
    {
     "data": {
      "text/html": [
       "<div>\n",
       "<style scoped>\n",
       "    .dataframe tbody tr th:only-of-type {\n",
       "        vertical-align: middle;\n",
       "    }\n",
       "\n",
       "    .dataframe tbody tr th {\n",
       "        vertical-align: top;\n",
       "    }\n",
       "\n",
       "    .dataframe thead th {\n",
       "        text-align: right;\n",
       "    }\n",
       "</style>\n",
       "<table border=\"1\" class=\"dataframe\">\n",
       "  <thead>\n",
       "    <tr style=\"text-align: right;\">\n",
       "      <th></th>\n",
       "      <th>Precip</th>\n",
       "      <th>MaxTemp</th>\n",
       "      <th>MinTemp</th>\n",
       "      <th>MeanTemp</th>\n",
       "      <th>Snowfall</th>\n",
       "      <th>PoorWeather</th>\n",
       "      <th>YR</th>\n",
       "      <th>MO</th>\n",
       "      <th>DA</th>\n",
       "      <th>PRCP</th>\n",
       "      <th>MAX</th>\n",
       "      <th>MIN</th>\n",
       "      <th>MEA</th>\n",
       "      <th>SNF</th>\n",
       "      <th>ELEV</th>\n",
       "    </tr>\n",
       "  </thead>\n",
       "  <tbody>\n",
       "    <tr>\n",
       "      <th>0</th>\n",
       "      <td>0.0</td>\n",
       "      <td>0.0</td>\n",
       "      <td>0.0</td>\n",
       "      <td>0.0</td>\n",
       "      <td>0.0</td>\n",
       "      <td>0.0</td>\n",
       "      <td>0</td>\n",
       "      <td>0</td>\n",
       "      <td>0</td>\n",
       "      <td>0.0</td>\n",
       "      <td>0.0</td>\n",
       "      <td>0.0</td>\n",
       "      <td>0.0</td>\n",
       "      <td>0.0</td>\n",
       "      <td>0</td>\n",
       "    </tr>\n",
       "    <tr>\n",
       "      <th>1</th>\n",
       "      <td>0.0</td>\n",
       "      <td>0.0</td>\n",
       "      <td>0.0</td>\n",
       "      <td>0.0</td>\n",
       "      <td>0.0</td>\n",
       "      <td>0.0</td>\n",
       "      <td>0</td>\n",
       "      <td>0</td>\n",
       "      <td>0</td>\n",
       "      <td>0.0</td>\n",
       "      <td>0.0</td>\n",
       "      <td>0.0</td>\n",
       "      <td>0.0</td>\n",
       "      <td>0.0</td>\n",
       "      <td>0</td>\n",
       "    </tr>\n",
       "    <tr>\n",
       "      <th>2</th>\n",
       "      <td>0.0</td>\n",
       "      <td>0.0</td>\n",
       "      <td>0.0</td>\n",
       "      <td>0.0</td>\n",
       "      <td>0.0</td>\n",
       "      <td>0.0</td>\n",
       "      <td>0</td>\n",
       "      <td>0</td>\n",
       "      <td>0</td>\n",
       "      <td>0.0</td>\n",
       "      <td>0.0</td>\n",
       "      <td>0.0</td>\n",
       "      <td>0.0</td>\n",
       "      <td>0.0</td>\n",
       "      <td>0</td>\n",
       "    </tr>\n",
       "    <tr>\n",
       "      <th>3</th>\n",
       "      <td>0.0</td>\n",
       "      <td>0.0</td>\n",
       "      <td>0.0</td>\n",
       "      <td>0.0</td>\n",
       "      <td>0.0</td>\n",
       "      <td>0.0</td>\n",
       "      <td>0</td>\n",
       "      <td>0</td>\n",
       "      <td>0</td>\n",
       "      <td>0.0</td>\n",
       "      <td>0.0</td>\n",
       "      <td>0.0</td>\n",
       "      <td>0.0</td>\n",
       "      <td>0.0</td>\n",
       "      <td>0</td>\n",
       "    </tr>\n",
       "    <tr>\n",
       "      <th>4</th>\n",
       "      <td>0.0</td>\n",
       "      <td>0.0</td>\n",
       "      <td>0.0</td>\n",
       "      <td>0.0</td>\n",
       "      <td>0.0</td>\n",
       "      <td>0.0</td>\n",
       "      <td>0</td>\n",
       "      <td>0</td>\n",
       "      <td>0</td>\n",
       "      <td>0.0</td>\n",
       "      <td>0.0</td>\n",
       "      <td>0.0</td>\n",
       "      <td>0.0</td>\n",
       "      <td>0.0</td>\n",
       "      <td>0</td>\n",
       "    </tr>\n",
       "  </tbody>\n",
       "</table>\n",
       "</div>"
      ],
      "text/plain": [
       "   Precip  MaxTemp  MinTemp  MeanTemp  Snowfall  PoorWeather  YR  MO  DA  \\\n",
       "0     0.0      0.0      0.0       0.0       0.0          0.0   0   0   0   \n",
       "1     0.0      0.0      0.0       0.0       0.0          0.0   0   0   0   \n",
       "2     0.0      0.0      0.0       0.0       0.0          0.0   0   0   0   \n",
       "3     0.0      0.0      0.0       0.0       0.0          0.0   0   0   0   \n",
       "4     0.0      0.0      0.0       0.0       0.0          0.0   0   0   0   \n",
       "\n",
       "   PRCP  MAX  MIN  MEA  SNF  ELEV  \n",
       "0   0.0  0.0  0.0  0.0  0.0     0  \n",
       "1   0.0  0.0  0.0  0.0  0.0     0  \n",
       "2   0.0  0.0  0.0  0.0  0.0     0  \n",
       "3   0.0  0.0  0.0  0.0  0.0     0  \n",
       "4   0.0  0.0  0.0  0.0  0.0     0  "
      ]
     },
     "execution_count": 48,
     "metadata": {},
     "output_type": "execute_result"
    }
   ],
   "source": [
    "dataset.head()"
   ]
  },
  {
   "cell_type": "markdown",
   "metadata": {},
   "source": [
    "# Checking Correlation"
   ]
  },
  {
   "cell_type": "code",
   "execution_count": 49,
   "metadata": {},
   "outputs": [
    {
     "data": {
      "text/plain": [
       "<AxesSubplot:>"
      ]
     },
     "execution_count": 49,
     "metadata": {},
     "output_type": "execute_result"
    },
    {
     "data": {
      "image/png": "[encoded data removed]",
      "text/plain": [
       "<Figure size 432x288 with 2 Axes>"
      ]
     },
     "metadata": {
      "needs_background": "light"
     },
     "output_type": "display_data"
    }
   ],
   "source": [
    "sns.heatmap(dataset.corr(), annot=True)"
   ]
  },
  {
   "cell_type": "code",
   "execution_count": 50,
   "metadata": {},
   "outputs": [
    {
     "data": {
      "text/plain": [
       "15"
      ]
     },
     "execution_count": 50,
     "metadata": {},
     "output_type": "execute_result"
    }
   ],
   "source": [
    "len(dataset.corr())"
   ]
  },
  {
   "cell_type": "code",
   "execution_count": 51,
   "metadata": {},
   "outputs": [
    {
     "name": "stdout",
     "output_type": "stream",
     "text": [
      "               Precip   MaxTemp   MinTemp  MeanTemp  Snowfall  PoorWeather  \\\n",
      "Precip       1.000000  0.416611  0.426975  0.422528  0.015255     0.439410   \n",
      "MaxTemp      0.416611  1.000000  0.984482  0.997177 -0.042191     0.927682   \n",
      "MinTemp      0.426975  0.984482  1.000000  0.994734 -0.096894     0.903821   \n",
      "MeanTemp     0.422528  0.997177  0.994734  1.000000 -0.065607     0.920811   \n",
      "Snowfall     0.015255 -0.042191 -0.096894 -0.065607  1.000000     0.132062   \n",
      "PoorWeather  0.439410  0.927682  0.903821  0.920811  0.132062     1.000000   \n",
      "YR           0.429265  0.949933  0.913332  0.937965  0.129251     0.977450   \n",
      "MO           0.389095  0.842122  0.815395  0.833913  0.100155     0.868857   \n",
      "DA           0.362363  0.802543  0.771709  0.792474  0.100835     0.825876   \n",
      "PRCP         1.000000  0.417349  0.427865  0.423334  0.015244     0.440162   \n",
      "MAX          0.426588  0.992661  0.968833  0.986281  0.024295     0.958138   \n",
      "MIN          0.437521  0.990276  0.981755  0.990361  0.007311     0.958273   \n",
      "MEA          0.431928  0.992561  0.975609  0.989162  0.016625     0.959013   \n",
      "SNF          0.015654 -0.032745 -0.070595 -0.049032  0.731181     0.096561   \n",
      "ELEV         0.160950  0.230246  0.223046  0.228002 -0.002594     0.218404   \n",
      "\n",
      "                   YR        MO        DA      PRCP       MAX       MIN  \\\n",
      "Precip       0.429265  0.389095  0.362363  1.000000  0.426588  0.437521   \n",
      "MaxTemp      0.949933  0.842122  0.802543  0.417349  0.992661  0.990276   \n",
      "MinTemp      0.913332  0.815395  0.771709  0.427865  0.968833  0.981755   \n",
      "MeanTemp     0.937965  0.833913  0.792474  0.423334  0.986281  0.990361   \n",
      "Snowfall     0.129251  0.100155  0.100835  0.015244  0.024295  0.007311   \n",
      "PoorWeather  0.977450  0.868857  0.825876  0.440162  0.958138  0.958273   \n",
      "YR           1.000000  0.882262  0.843619  0.429944  0.980655  0.973990   \n",
      "MO           0.882262  1.000000  0.745720  0.390137  0.868646  0.865748   \n",
      "DA           0.843619  0.745720  1.000000  0.363080  0.828226  0.822588   \n",
      "PRCP         0.429944  0.390137  0.363080  1.000000  0.427342  0.438374   \n",
      "MAX          0.980655  0.868646  0.828226  0.427342  1.000000  0.995958   \n",
      "MIN          0.973990  0.865748  0.822588  0.438374  0.995958  1.000000   \n",
      "MEA          0.978609  0.868178  0.826497  0.432728  0.999159  0.998756   \n",
      "SNF          0.094558  0.059420  0.073062  0.015646  0.016587  0.005484   \n",
      "ELEV         0.227186  0.216527  0.190395  0.160955  0.231550  0.229609   \n",
      "\n",
      "                  MEA       SNF      ELEV  \n",
      "Precip       0.431928  0.015654  0.160950  \n",
      "MaxTemp      0.992561 -0.032745  0.230246  \n",
      "MinTemp      0.975609 -0.070595  0.223046  \n",
      "MeanTemp     0.989162 -0.049032  0.228002  \n",
      "Snowfall     0.016625  0.731181 -0.002594  \n",
      "PoorWeather  0.959013  0.096561  0.218404  \n",
      "YR           0.978609  0.094558  0.227186  \n",
      "MO           0.868178  0.059420  0.216527  \n",
      "DA           0.826497  0.073062  0.190395  \n",
      "PRCP         0.432728  0.015646  0.160955  \n",
      "MAX          0.999159  0.016587  0.231550  \n",
      "MIN          0.998756  0.005484  0.229609  \n",
      "MEA          1.000000  0.011532  0.230869  \n",
      "SNF          0.011532  1.000000 -0.003202  \n",
      "ELEV         0.230869 -0.003202  1.000000  \n"
     ]
    },
    {
     "data": {
      "image/png": "[encoded data removed]",
      "text/plain": [
       "<Figure size 1080x1080 with 1 Axes>"
      ]
     },
     "metadata": {
      "needs_background": "light"
     },
     "output_type": "display_data"
    }
   ],
   "source": [
    "def plot_corr(df):\n",
    "    \n",
    "    corr = df.corr()    # data frame correlation function\n",
    "    print(corr)\n",
    "    size = len(df.corr())\n",
    "    fig, ax = plt.subplots(figsize=(size, size))#The subplots command in the background will call plt.figure(), and any keywords will be passed along\n",
    "    ax.matshow(corr)   # heatmap with matshow, color code the rectangles by correlation value\n",
    "    plt.xticks(range(len(corr.columns)), corr.columns)  # draw x tick marks\n",
    "    plt.yticks(range(len(corr.columns)), corr.columns)  # draw y tick marks\n",
    "    \n",
    "plot_corr(dataset)"
   ]
  },
  {
   "cell_type": "code",
   "execution_count": 52,
   "metadata": {},
   "outputs": [
    {
     "data": {
      "text/html": [
       "<div>\n",
       "<style scoped>\n",
       "    .dataframe tbody tr th:only-of-type {\n",
       "        vertical-align: middle;\n",
       "    }\n",
       "\n",
       "    .dataframe tbody tr th {\n",
       "        vertical-align: top;\n",
       "    }\n",
       "\n",
       "    .dataframe thead th {\n",
       "        text-align: right;\n",
       "    }\n",
       "</style>\n",
       "<table border=\"1\" class=\"dataframe\">\n",
       "  <thead>\n",
       "    <tr style=\"text-align: right;\">\n",
       "      <th></th>\n",
       "      <th>Precip</th>\n",
       "      <th>MaxTemp</th>\n",
       "      <th>MinTemp</th>\n",
       "      <th>MeanTemp</th>\n",
       "      <th>Snowfall</th>\n",
       "      <th>PoorWeather</th>\n",
       "      <th>YR</th>\n",
       "      <th>MO</th>\n",
       "      <th>DA</th>\n",
       "      <th>PRCP</th>\n",
       "      <th>MAX</th>\n",
       "      <th>MIN</th>\n",
       "      <th>MEA</th>\n",
       "      <th>SNF</th>\n",
       "      <th>ELEV</th>\n",
       "    </tr>\n",
       "  </thead>\n",
       "  <tbody>\n",
       "    <tr>\n",
       "      <th>0</th>\n",
       "      <td>0.0</td>\n",
       "      <td>0.0</td>\n",
       "      <td>0.0</td>\n",
       "      <td>0.0</td>\n",
       "      <td>0.0</td>\n",
       "      <td>0.0</td>\n",
       "      <td>0</td>\n",
       "      <td>0</td>\n",
       "      <td>0</td>\n",
       "      <td>0.0</td>\n",
       "      <td>0.0</td>\n",
       "      <td>0.0</td>\n",
       "      <td>0.0</td>\n",
       "      <td>0.0</td>\n",
       "      <td>0</td>\n",
       "    </tr>\n",
       "    <tr>\n",
       "      <th>1</th>\n",
       "      <td>0.0</td>\n",
       "      <td>0.0</td>\n",
       "      <td>0.0</td>\n",
       "      <td>0.0</td>\n",
       "      <td>0.0</td>\n",
       "      <td>0.0</td>\n",
       "      <td>0</td>\n",
       "      <td>0</td>\n",
       "      <td>0</td>\n",
       "      <td>0.0</td>\n",
       "      <td>0.0</td>\n",
       "      <td>0.0</td>\n",
       "      <td>0.0</td>\n",
       "      <td>0.0</td>\n",
       "      <td>0</td>\n",
       "    </tr>\n",
       "    <tr>\n",
       "      <th>2</th>\n",
       "      <td>0.0</td>\n",
       "      <td>0.0</td>\n",
       "      <td>0.0</td>\n",
       "      <td>0.0</td>\n",
       "      <td>0.0</td>\n",
       "      <td>0.0</td>\n",
       "      <td>0</td>\n",
       "      <td>0</td>\n",
       "      <td>0</td>\n",
       "      <td>0.0</td>\n",
       "      <td>0.0</td>\n",
       "      <td>0.0</td>\n",
       "      <td>0.0</td>\n",
       "      <td>0.0</td>\n",
       "      <td>0</td>\n",
       "    </tr>\n",
       "    <tr>\n",
       "      <th>3</th>\n",
       "      <td>0.0</td>\n",
       "      <td>0.0</td>\n",
       "      <td>0.0</td>\n",
       "      <td>0.0</td>\n",
       "      <td>0.0</td>\n",
       "      <td>0.0</td>\n",
       "      <td>0</td>\n",
       "      <td>0</td>\n",
       "      <td>0</td>\n",
       "      <td>0.0</td>\n",
       "      <td>0.0</td>\n",
       "      <td>0.0</td>\n",
       "      <td>0.0</td>\n",
       "      <td>0.0</td>\n",
       "      <td>0</td>\n",
       "    </tr>\n",
       "    <tr>\n",
       "      <th>4</th>\n",
       "      <td>0.0</td>\n",
       "      <td>0.0</td>\n",
       "      <td>0.0</td>\n",
       "      <td>0.0</td>\n",
       "      <td>0.0</td>\n",
       "      <td>0.0</td>\n",
       "      <td>0</td>\n",
       "      <td>0</td>\n",
       "      <td>0</td>\n",
       "      <td>0.0</td>\n",
       "      <td>0.0</td>\n",
       "      <td>0.0</td>\n",
       "      <td>0.0</td>\n",
       "      <td>0.0</td>\n",
       "      <td>0</td>\n",
       "    </tr>\n",
       "  </tbody>\n",
       "</table>\n",
       "</div>"
      ],
      "text/plain": [
       "   Precip  MaxTemp  MinTemp  MeanTemp  Snowfall  PoorWeather  YR  MO  DA  \\\n",
       "0     0.0      0.0      0.0       0.0       0.0          0.0   0   0   0   \n",
       "1     0.0      0.0      0.0       0.0       0.0          0.0   0   0   0   \n",
       "2     0.0      0.0      0.0       0.0       0.0          0.0   0   0   0   \n",
       "3     0.0      0.0      0.0       0.0       0.0          0.0   0   0   0   \n",
       "4     0.0      0.0      0.0       0.0       0.0          0.0   0   0   0   \n",
       "\n",
       "   PRCP  MAX  MIN  MEA  SNF  ELEV  \n",
       "0   0.0  0.0  0.0  0.0  0.0     0  \n",
       "1   0.0  0.0  0.0  0.0  0.0     0  \n",
       "2   0.0  0.0  0.0  0.0  0.0     0  \n",
       "3   0.0  0.0  0.0  0.0  0.0     0  \n",
       "4   0.0  0.0  0.0  0.0  0.0     0  "
      ]
     },
     "execution_count": 52,
     "metadata": {},
     "output_type": "execute_result"
    }
   ],
   "source": [
    "dataset.head()"
   ]
  },
  {
   "cell_type": "code",
   "execution_count": 53,
   "metadata": {},
   "outputs": [],
   "source": [
    "# Removing Correlated features\n",
    "\n",
    "del dataset['SNF']\n",
    "del dataset['PRCP']\n",
    "del dataset['MaxTemp']\n",
    "del dataset['MinTemp']\n",
    "del dataset['MIN']\n",
    "del dataset['MAX']\n",
    "del dataset['MEA']"
   ]
  },
  {
   "cell_type": "code",
   "execution_count": 54,
   "metadata": {},
   "outputs": [
    {
     "data": {
      "text/html": [
       "<div>\n",
       "<style scoped>\n",
       "    .dataframe tbody tr th:only-of-type {\n",
       "        vertical-align: middle;\n",
       "    }\n",
       "\n",
       "    .dataframe tbody tr th {\n",
       "        vertical-align: top;\n",
       "    }\n",
       "\n",
       "    .dataframe thead th {\n",
       "        text-align: right;\n",
       "    }\n",
       "</style>\n",
       "<table border=\"1\" class=\"dataframe\">\n",
       "  <thead>\n",
       "    <tr style=\"text-align: right;\">\n",
       "      <th></th>\n",
       "      <th>Precip</th>\n",
       "      <th>MeanTemp</th>\n",
       "      <th>Snowfall</th>\n",
       "      <th>PoorWeather</th>\n",
       "      <th>YR</th>\n",
       "      <th>MO</th>\n",
       "      <th>DA</th>\n",
       "      <th>ELEV</th>\n",
       "    </tr>\n",
       "  </thead>\n",
       "  <tbody>\n",
       "    <tr>\n",
       "      <th>0</th>\n",
       "      <td>0.0</td>\n",
       "      <td>0.0</td>\n",
       "      <td>0.0</td>\n",
       "      <td>0.0</td>\n",
       "      <td>0</td>\n",
       "      <td>0</td>\n",
       "      <td>0</td>\n",
       "      <td>0</td>\n",
       "    </tr>\n",
       "    <tr>\n",
       "      <th>1</th>\n",
       "      <td>0.0</td>\n",
       "      <td>0.0</td>\n",
       "      <td>0.0</td>\n",
       "      <td>0.0</td>\n",
       "      <td>0</td>\n",
       "      <td>0</td>\n",
       "      <td>0</td>\n",
       "      <td>0</td>\n",
       "    </tr>\n",
       "    <tr>\n",
       "      <th>2</th>\n",
       "      <td>0.0</td>\n",
       "      <td>0.0</td>\n",
       "      <td>0.0</td>\n",
       "      <td>0.0</td>\n",
       "      <td>0</td>\n",
       "      <td>0</td>\n",
       "      <td>0</td>\n",
       "      <td>0</td>\n",
       "    </tr>\n",
       "    <tr>\n",
       "      <th>3</th>\n",
       "      <td>0.0</td>\n",
       "      <td>0.0</td>\n",
       "      <td>0.0</td>\n",
       "      <td>0.0</td>\n",
       "      <td>0</td>\n",
       "      <td>0</td>\n",
       "      <td>0</td>\n",
       "      <td>0</td>\n",
       "    </tr>\n",
       "    <tr>\n",
       "      <th>4</th>\n",
       "      <td>0.0</td>\n",
       "      <td>0.0</td>\n",
       "      <td>0.0</td>\n",
       "      <td>0.0</td>\n",
       "      <td>0</td>\n",
       "      <td>0</td>\n",
       "      <td>0</td>\n",
       "      <td>0</td>\n",
       "    </tr>\n",
       "  </tbody>\n",
       "</table>\n",
       "</div>"
      ],
      "text/plain": [
       "   Precip  MeanTemp  Snowfall  PoorWeather  YR  MO  DA  ELEV\n",
       "0     0.0       0.0       0.0          0.0   0   0   0     0\n",
       "1     0.0       0.0       0.0          0.0   0   0   0     0\n",
       "2     0.0       0.0       0.0          0.0   0   0   0     0\n",
       "3     0.0       0.0       0.0          0.0   0   0   0     0\n",
       "4     0.0       0.0       0.0          0.0   0   0   0     0"
      ]
     },
     "execution_count": 54,
     "metadata": {},
     "output_type": "execute_result"
    }
   ],
   "source": [
    "dataset.head()"
   ]
  },
  {
   "cell_type": "code",
   "execution_count": 55,
   "metadata": {},
   "outputs": [
    {
     "name": "stdout",
     "output_type": "stream",
     "text": [
      "<class 'pandas.core.frame.DataFrame'>\n",
      "Int64Index: 101344 entries, 0 to 119039\n",
      "Data columns (total 8 columns):\n",
      " #   Column       Non-Null Count   Dtype  \n",
      "---  ------       --------------   -----  \n",
      " 0   Precip       101344 non-null  float64\n",
      " 1   MeanTemp     101344 non-null  float64\n",
      " 2   Snowfall     101344 non-null  float64\n",
      " 3   PoorWeather  101344 non-null  float64\n",
      " 4   YR           101344 non-null  int32  \n",
      " 5   MO           101344 non-null  int32  \n",
      " 6   DA           101344 non-null  int32  \n",
      " 7   ELEV         101344 non-null  int32  \n",
      "dtypes: float64(4), int32(4)\n",
      "memory usage: 5.4 MB\n"
     ]
    }
   ],
   "source": [
    "dataset.info()"
   ]
  },
  {
   "cell_type": "code",
   "execution_count": 56,
   "metadata": {},
   "outputs": [
    {
     "data": {
      "text/plain": [
       "<AxesSubplot:>"
      ]
     },
     "execution_count": 56,
     "metadata": {},
     "output_type": "execute_result"
    },
    {
     "data": {
      "image/png": "[encoded data removed]",
      "text/plain": [
       "<Figure size 432x288 with 2 Axes>"
      ]
     },
     "metadata": {
      "needs_background": "light"
     },
     "output_type": "display_data"
    }
   ],
   "source": [
    "# Checking Correlation again\n",
    "sns.heatmap(dataset.corr(), annot=True)"
   ]
  },
  {
   "cell_type": "code",
   "execution_count": 57,
   "metadata": {},
   "outputs": [
    {
     "name": "stdout",
     "output_type": "stream",
     "text": [
      "               Precip  MeanTemp  Snowfall  PoorWeather        YR        MO  \\\n",
      "Precip       1.000000  0.422528  0.015255     0.439410  0.429265  0.389095   \n",
      "MeanTemp     0.422528  1.000000 -0.065607     0.920811  0.937965  0.833913   \n",
      "Snowfall     0.015255 -0.065607  1.000000     0.132062  0.129251  0.100155   \n",
      "PoorWeather  0.439410  0.920811  0.132062     1.000000  0.977450  0.868857   \n",
      "YR           0.429265  0.937965  0.129251     0.977450  1.000000  0.882262   \n",
      "MO           0.389095  0.833913  0.100155     0.868857  0.882262  1.000000   \n",
      "DA           0.362363  0.792474  0.100835     0.825876  0.843619  0.745720   \n",
      "ELEV         0.160950  0.228002 -0.002594     0.218404  0.227186  0.216527   \n",
      "\n",
      "                   DA      ELEV  \n",
      "Precip       0.362363  0.160950  \n",
      "MeanTemp     0.792474  0.228002  \n",
      "Snowfall     0.100835 -0.002594  \n",
      "PoorWeather  0.825876  0.218404  \n",
      "YR           0.843619  0.227186  \n",
      "MO           0.745720  0.216527  \n",
      "DA           1.000000  0.190395  \n",
      "ELEV         0.190395  1.000000  \n"
     ]
    },
    {
     "data": {
      "image/png": "[encoded data removed]",
      "text/plain": [
       "<Figure size 576x576 with 1 Axes>"
      ]
     },
     "metadata": {
      "needs_background": "light"
     },
     "output_type": "display_data"
    }
   ],
   "source": [
    "plot_corr(dataset)"
   ]
  },
  {
   "cell_type": "code",
   "execution_count": 58,
   "metadata": {},
   "outputs": [
    {
     "name": "stdout",
     "output_type": "stream",
     "text": [
      "<class 'pandas.core.frame.DataFrame'>\n",
      "Int64Index: 101344 entries, 0 to 119039\n",
      "Data columns (total 8 columns):\n",
      " #   Column       Non-Null Count   Dtype  \n",
      "---  ------       --------------   -----  \n",
      " 0   Precip       101344 non-null  float64\n",
      " 1   MeanTemp     101344 non-null  float64\n",
      " 2   Snowfall     101344 non-null  float64\n",
      " 3   PoorWeather  101344 non-null  float64\n",
      " 4   YR           101344 non-null  int32  \n",
      " 5   MO           101344 non-null  int32  \n",
      " 6   DA           101344 non-null  int32  \n",
      " 7   ELEV         101344 non-null  int32  \n",
      "dtypes: float64(4), int32(4)\n",
      "memory usage: 5.4 MB\n",
      "None\n"
     ]
    }
   ],
   "source": [
    "print(dataset.info())"
   ]
  },
  {
   "cell_type": "code",
   "execution_count": 59,
   "metadata": {},
   "outputs": [
    {
     "data": {
      "text/html": [
       "<div>\n",
       "<style scoped>\n",
       "    .dataframe tbody tr th:only-of-type {\n",
       "        vertical-align: middle;\n",
       "    }\n",
       "\n",
       "    .dataframe tbody tr th {\n",
       "        vertical-align: top;\n",
       "    }\n",
       "\n",
       "    .dataframe thead th {\n",
       "        text-align: right;\n",
       "    }\n",
       "</style>\n",
       "<table border=\"1\" class=\"dataframe\">\n",
       "  <thead>\n",
       "    <tr style=\"text-align: right;\">\n",
       "      <th></th>\n",
       "      <th>Precip</th>\n",
       "      <th>MeanTemp</th>\n",
       "      <th>Snowfall</th>\n",
       "      <th>PoorWeather</th>\n",
       "      <th>YR</th>\n",
       "      <th>MO</th>\n",
       "      <th>DA</th>\n",
       "      <th>ELEV</th>\n",
       "    </tr>\n",
       "  </thead>\n",
       "  <tbody>\n",
       "    <tr>\n",
       "      <th>0</th>\n",
       "      <td>0.0</td>\n",
       "      <td>0.0</td>\n",
       "      <td>0.0</td>\n",
       "      <td>0.0</td>\n",
       "      <td>0</td>\n",
       "      <td>0</td>\n",
       "      <td>0</td>\n",
       "      <td>0</td>\n",
       "    </tr>\n",
       "    <tr>\n",
       "      <th>1</th>\n",
       "      <td>0.0</td>\n",
       "      <td>0.0</td>\n",
       "      <td>0.0</td>\n",
       "      <td>0.0</td>\n",
       "      <td>0</td>\n",
       "      <td>0</td>\n",
       "      <td>0</td>\n",
       "      <td>0</td>\n",
       "    </tr>\n",
       "    <tr>\n",
       "      <th>2</th>\n",
       "      <td>0.0</td>\n",
       "      <td>0.0</td>\n",
       "      <td>0.0</td>\n",
       "      <td>0.0</td>\n",
       "      <td>0</td>\n",
       "      <td>0</td>\n",
       "      <td>0</td>\n",
       "      <td>0</td>\n",
       "    </tr>\n",
       "    <tr>\n",
       "      <th>3</th>\n",
       "      <td>0.0</td>\n",
       "      <td>0.0</td>\n",
       "      <td>0.0</td>\n",
       "      <td>0.0</td>\n",
       "      <td>0</td>\n",
       "      <td>0</td>\n",
       "      <td>0</td>\n",
       "      <td>0</td>\n",
       "    </tr>\n",
       "    <tr>\n",
       "      <th>4</th>\n",
       "      <td>0.0</td>\n",
       "      <td>0.0</td>\n",
       "      <td>0.0</td>\n",
       "      <td>0.0</td>\n",
       "      <td>0</td>\n",
       "      <td>0</td>\n",
       "      <td>0</td>\n",
       "      <td>0</td>\n",
       "    </tr>\n",
       "  </tbody>\n",
       "</table>\n",
       "</div>"
      ],
      "text/plain": [
       "   Precip  MeanTemp  Snowfall  PoorWeather  YR  MO  DA  ELEV\n",
       "0     0.0       0.0       0.0          0.0   0   0   0     0\n",
       "1     0.0       0.0       0.0          0.0   0   0   0     0\n",
       "2     0.0       0.0       0.0          0.0   0   0   0     0\n",
       "3     0.0       0.0       0.0          0.0   0   0   0     0\n",
       "4     0.0       0.0       0.0          0.0   0   0   0     0"
      ]
     },
     "execution_count": 59,
     "metadata": {},
     "output_type": "execute_result"
    }
   ],
   "source": [
    "dataset.head()"
   ]
  },
  {
   "cell_type": "code",
   "execution_count": 60,
   "metadata": {},
   "outputs": [
    {
     "name": "stdout",
     "output_type": "stream",
     "text": [
      "[  0.      0.254   1.778   2.54    0.508   1.016   0.762   4.826   4.318\n",
      "   6.096   2.032   9.144   6.604   4.572   9.906   9.652   1.524  13.97\n",
      "   6.35    5.334   1.27    2.794   5.588  13.716   8.128  22.352   3.556\n",
      "  39.116  36.068  11.938  98.044   3.81   14.986  13.462  78.232 146.304\n",
      "  14.732   5.842  21.844  17.78   26.67  120.904  42.164  23.368   4.064\n",
      "  21.082  44.958   2.286  25.654  50.038  17.526  51.054   8.382   3.048\n",
      "  25.4     5.08    7.366  16.256   7.112   8.89   24.638  11.684  17.018\n",
      " 144.78   18.034  10.668  50.8   106.426  36.576  53.34   34.798  12.954\n",
      "   7.874  26.416  85.598  47.498  12.7    17.272  11.176  59.182  33.782\n",
      "  40.894  28.194  33.528  24.892  14.478   3.302  71.628  31.496  36.322\n",
      "  29.464   9.398  10.16   15.748   6.858  16.002   7.62   45.974  18.796\n",
      "  14.224  68.326  27.178 116.586  21.336  42.926  37.592  38.608  28.956\n",
      "  50.546   8.636  29.972  48.26   43.942  26.924  76.708  52.07   11.43\n",
      "  30.734  52.324  35.306 120.396  12.192  34.29   80.518  34.036  30.48\n",
      "  63.5    32.004 125.984  20.066 116.332  68.072  10.414  10.922  46.482\n",
      "  76.454  33.02   34.544  31.242  12.446  15.24   42.418  38.1    31.75\n",
      "  29.21   45.212  81.28   18.542  22.098  24.384  18.288  58.674  56.388\n",
      " 108.204  32.258  16.764  27.686 173.736  19.558  39.878  49.53   30.988\n",
      " 225.298  76.962 206.248  94.488 162.052  22.86   37.084  20.32   22.606\n",
      "  87.122  23.622  32.766  52.578  35.052  88.138 103.632  15.494  82.804\n",
      "  93.726  43.18   67.818  27.94   28.702  27.432  20.828  19.05   19.304\n",
      "  99.06   61.976  51.308  48.006 110.998  37.846  93.98   70.866 107.442\n",
      "  20.574  33.274  23.114  25.908  92.456  47.752  71.882  57.15   84.074\n",
      "  16.51   25.146  50.292  53.848  52.832  73.914  21.59   84.836 103.886\n",
      "  41.91   23.876  46.99   56.896  35.56   40.64   82.042  26.162  30.226\n",
      "  19.812  38.862  28.448  13.208  66.548  60.198  43.434  53.086  54.356\n",
      "  45.72   41.402  29.718  49.022  24.13   43.688  70.612  44.45   37.338\n",
      "  67.056  74.676  70.104  40.386  69.342  39.37   86.868  86.106  62.23\n",
      "  58.42   38.354  40.132  55.88   74.168  44.704  41.148  42.672  35.814\n",
      "  80.264  85.852  64.262  48.768  85.09   57.658 122.936  46.736  44.196\n",
      "  61.214 102.362  36.83   76.2    54.864  78.994  75.692  94.742  47.244\n",
      "  51.562  81.788  74.422  46.228  57.912 152.4    71.374  55.372  82.296\n",
      "  94.234 125.73   59.436 140.716 112.014 182.372 127.     88.392 211.328\n",
      "  82.55  107.696  67.31   73.406 124.46  163.83  107.95   77.978  62.992\n",
      " 118.618 136.652  55.626 101.092  72.644  90.424  57.404  98.552  68.834\n",
      "  90.678  95.504 159.512 103.378 139.446  60.706 234.95  133.35  100.33\n",
      " 157.48   32.512  64.008  39.624  73.152  81.534  55.118  66.04   65.532\n",
      "  48.514  71.12  124.206  41.656  54.61   59.69   86.614  49.276  49.784\n",
      "  56.134  77.724  56.642 123.698 106.68  177.8    59.944  97.282  45.466\n",
      " 126.492  53.594 123.952  65.278 110.744  79.502  67.564  81.026  90.17\n",
      " 116.84  134.62   90.932  61.468  69.596  91.694  80.01   64.516  60.452\n",
      "  54.102  58.166  58.928  68.58  105.41  143.002 137.922  87.884 112.522\n",
      " 134.112 128.778  83.312 104.394  96.774 168.656  78.74  100.584  65.024\n",
      " 117.348  62.484  95.25   80.772  69.85   92.71  125.222 182.626 132.588\n",
      "  65.786 209.804 116.078  85.344  75.184 129.54   83.82   70.358  96.266\n",
      "  61.722 117.602  83.566 149.352 126.238  63.246  66.802 122.174 233.172\n",
      " 102.108  63.754  60.96   89.916 105.156 136.398 111.506 134.874  91.44\n",
      "  89.662  69.088  75.438  72.898 100.838  88.646 101.6   124.968  83.058\n",
      " 106.172  72.39   89.408 104.648  89.154 238.506 139.192 132.334 113.03\n",
      "  79.756  66.294  75.946  64.77  175.006 119.888  91.948  62.738 140.208\n",
      " 110.236 153.162  77.216 124.714 242.316  73.66  133.096]\n",
      "[  0.          22.77777778  23.33333333  23.88888889  24.44444444\n",
      "  25.          25.55555556  26.11111111  27.22222222  26.66666667\n",
      "  27.77777778  28.33333333  28.88888889  30.          22.22222222\n",
      "  29.44444444  21.11111111  20.          19.44444444  20.55555556\n",
      "  21.66666667  18.88888889  17.77777778  15.55555556  16.66666667\n",
      "  17.22222222  16.11111111  18.33333333  15.          32.22222222\n",
      "  31.11111111  13.88888889  33.88888889  30.55555556  33.33333333\n",
      "  35.          36.11111111  31.66666667  35.55555556  34.44444444\n",
      "  36.66666667  11.11111111  12.22222222  14.44444444  13.33333333\n",
      "  10.           8.88888889   9.44444444  12.77777778  10.55555556\n",
      "  11.66666667   7.77777778   8.33333333   5.55555556   6.66666667\n",
      "   4.44444444   3.88888889   6.11111111   3.33333333   5.\n",
      "   7.22222222  -8.88888889  -6.66666667   1.66666667  -7.77777778\n",
      "   2.77777778   2.22222222  -5.55555556  -1.11111111   1.11111111\n",
      "  -2.22222222  -3.33333333  -2.77777778  -6.11111111  -1.66666667\n",
      "  -5.           0.55555556  -4.44444444  -3.88888889  -0.55555556\n",
      "  -8.33333333 -10.55555556 -12.22222222 -11.11111111 -14.44444444\n",
      " -10.          -7.22222222 -12.77777778  -9.44444444 -11.66666667\n",
      " -17.22222222 -15.         -13.33333333 -16.66666667 -16.11111111\n",
      " -22.22222222 -22.77777778 -30.55555556 -25.55555556 -21.66666667\n",
      " -23.33333333 -13.88888889 -17.77777778 -20.         -15.55555556\n",
      " -21.11111111 -24.44444444 -28.88888889 -18.88888889  32.77777778\n",
      "  37.77777778]\n",
      "[0. 1.]\n",
      "[0. 1.]\n",
      "[ 0 43 44 45 41 42]\n",
      "[ 0  8  9 10 11 12  1  2  3  4  5  6  7]\n",
      "[ 0  8 25 26 27 31  1  4  5  9 10 19 28 30  2  3  6  7 17 20 13 15 23 16\n",
      " 21 14 22 24 18 29 11 12]\n",
      "[   0   62 9999   29    9   24    5   10   16   14   22   23 1132    6\n",
      "   21   55    8   41   63 1486  443  235  123    4   48   49  461  460\n",
      "  564    3   50   11    2   42  271  475  354 2326   17  897   86    1\n",
      "   53  167  228   98  115    7   93  111   75  611   88  754  114   13\n",
      "   26  110   71  783   20   45 1727 1340  105   12   18  100   74   83\n",
      "   28   67  129  146   43   77  101   27   38   47   30   40  188  187]\n"
     ]
    }
   ],
   "source": [
    "# Verifying dataset\n",
    "\n",
    "print(dataset['Precip'].unique())\n",
    "print(dataset['MeanTemp'].unique())\n",
    "print(dataset['Snowfall'].unique())\n",
    "print(dataset['PoorWeather'].unique())\n",
    "print(dataset['YR'].unique())\n",
    "print(dataset['MO'].unique())\n",
    "print(dataset['DA'].unique())\n",
    "print(dataset['ELEV'].unique())"
   ]
  },
  {
   "cell_type": "code",
   "execution_count": 61,
   "metadata": {},
   "outputs": [
    {
     "name": "stdout",
     "output_type": "stream",
     "text": [
      "(101344, 8)\n"
     ]
    }
   ],
   "source": [
    "print(dataset.shape)"
   ]
  },
  {
   "cell_type": "markdown",
   "metadata": {},
   "source": [
    "### Removing rows with every value == 0"
   ]
  },
  {
   "cell_type": "code",
   "execution_count": 62,
   "metadata": {},
   "outputs": [
    {
     "name": "stdout",
     "output_type": "stream",
     "text": [
      "77286\n",
      "(24058, 8)\n"
     ]
    }
   ],
   "source": [
    "print(len(dataset.loc[(dataset==0).all(axis=1)]))\n",
    "dataset.drop(dataset.loc[(dataset==0).all(axis=1)].index, inplace=True)\n",
    "print(dataset.shape)"
   ]
  },
  {
   "cell_type": "code",
   "execution_count": 63,
   "metadata": {},
   "outputs": [
    {
     "data": {
      "text/html": [
       "<div>\n",
       "<style scoped>\n",
       "    .dataframe tbody tr th:only-of-type {\n",
       "        vertical-align: middle;\n",
       "    }\n",
       "\n",
       "    .dataframe tbody tr th {\n",
       "        vertical-align: top;\n",
       "    }\n",
       "\n",
       "    .dataframe thead th {\n",
       "        text-align: right;\n",
       "    }\n",
       "</style>\n",
       "<table border=\"1\" class=\"dataframe\">\n",
       "  <thead>\n",
       "    <tr style=\"text-align: right;\">\n",
       "      <th></th>\n",
       "      <th>Precip</th>\n",
       "      <th>MeanTemp</th>\n",
       "      <th>Snowfall</th>\n",
       "      <th>PoorWeather</th>\n",
       "      <th>YR</th>\n",
       "      <th>MO</th>\n",
       "      <th>DA</th>\n",
       "      <th>ELEV</th>\n",
       "    </tr>\n",
       "  </thead>\n",
       "  <tbody>\n",
       "    <tr>\n",
       "      <th>403</th>\n",
       "      <td>0.254</td>\n",
       "      <td>22.777778</td>\n",
       "      <td>0.0</td>\n",
       "      <td>1.0</td>\n",
       "      <td>43</td>\n",
       "      <td>8</td>\n",
       "      <td>8</td>\n",
       "      <td>62</td>\n",
       "    </tr>\n",
       "    <tr>\n",
       "      <th>420</th>\n",
       "      <td>1.778</td>\n",
       "      <td>22.777778</td>\n",
       "      <td>0.0</td>\n",
       "      <td>1.0</td>\n",
       "      <td>43</td>\n",
       "      <td>8</td>\n",
       "      <td>25</td>\n",
       "      <td>62</td>\n",
       "    </tr>\n",
       "    <tr>\n",
       "      <th>421</th>\n",
       "      <td>2.540</td>\n",
       "      <td>23.333333</td>\n",
       "      <td>0.0</td>\n",
       "      <td>1.0</td>\n",
       "      <td>43</td>\n",
       "      <td>8</td>\n",
       "      <td>26</td>\n",
       "      <td>62</td>\n",
       "    </tr>\n",
       "    <tr>\n",
       "      <th>422</th>\n",
       "      <td>0.508</td>\n",
       "      <td>22.777778</td>\n",
       "      <td>0.0</td>\n",
       "      <td>1.0</td>\n",
       "      <td>43</td>\n",
       "      <td>8</td>\n",
       "      <td>27</td>\n",
       "      <td>62</td>\n",
       "    </tr>\n",
       "    <tr>\n",
       "      <th>426</th>\n",
       "      <td>1.016</td>\n",
       "      <td>23.888889</td>\n",
       "      <td>0.0</td>\n",
       "      <td>1.0</td>\n",
       "      <td>43</td>\n",
       "      <td>8</td>\n",
       "      <td>31</td>\n",
       "      <td>62</td>\n",
       "    </tr>\n",
       "  </tbody>\n",
       "</table>\n",
       "</div>"
      ],
      "text/plain": [
       "     Precip   MeanTemp  Snowfall  PoorWeather  YR  MO  DA  ELEV\n",
       "403   0.254  22.777778       0.0          1.0  43   8   8    62\n",
       "420   1.778  22.777778       0.0          1.0  43   8  25    62\n",
       "421   2.540  23.333333       0.0          1.0  43   8  26    62\n",
       "422   0.508  22.777778       0.0          1.0  43   8  27    62\n",
       "426   1.016  23.888889       0.0          1.0  43   8  31    62"
      ]
     },
     "execution_count": 63,
     "metadata": {},
     "output_type": "execute_result"
    }
   ],
   "source": [
    "dataset.head()"
   ]
  },
  {
   "cell_type": "code",
   "execution_count": 64,
   "metadata": {},
   "outputs": [
    {
     "name": "stdout",
     "output_type": "stream",
     "text": [
      "3159\n",
      "38\n",
      "0\n",
      "0\n",
      "0\n"
     ]
    }
   ],
   "source": [
    "print(len(dataset.loc[dataset['Precip']==0].index))\n",
    "print(len(dataset.loc[dataset['MeanTemp']==0].index))\n",
    "print(len(dataset.loc[dataset['YR']==0].index))\n",
    "print(len(dataset.loc[dataset['MO']==0].index))\n",
    "print(len(dataset.loc[dataset['ELEV']==0].index))"
   ]
  },
  {
   "cell_type": "markdown",
   "metadata": {},
   "source": [
    "## Independent and dependent values"
   ]
  },
  {
   "cell_type": "code",
   "execution_count": 65,
   "metadata": {},
   "outputs": [],
   "source": [
    "X = dataset.iloc[:, [0,1,4,5,6,7]]\n",
    "Y = dataset.iloc[:, [2,3]]"
   ]
  },
  {
   "cell_type": "code",
   "execution_count": 66,
   "metadata": {},
   "outputs": [
    {
     "name": "stdout",
     "output_type": "stream",
     "text": [
      "        Precip   MeanTemp  YR  MO  DA  ELEV\n",
      "403      0.254  22.777778  43   8   8    62\n",
      "420      1.778  22.777778  43   8  25    62\n",
      "421      2.540  23.333333  43   8  26    62\n",
      "422      0.508  22.777778  43   8  27    62\n",
      "426      1.016  23.888889  43   8  31    62\n",
      "...        ...        ...  ..  ..  ..   ...\n",
      "119026  19.812  25.000000  45  12  18     2\n",
      "119027  10.160  22.222222  45  12  19     2\n",
      "119033   0.508  23.888889  45  12  25     2\n",
      "119036   9.906  23.888889  45  12  28     2\n",
      "119037   0.000  23.333333  45  12  29     2\n",
      "\n",
      "[24058 rows x 6 columns]\n"
     ]
    }
   ],
   "source": [
    "print(X)"
   ]
  },
  {
   "cell_type": "code",
   "execution_count": 67,
   "metadata": {},
   "outputs": [
    {
     "name": "stdout",
     "output_type": "stream",
     "text": [
      "        Snowfall  PoorWeather\n",
      "403          0.0          1.0\n",
      "420          0.0          1.0\n",
      "421          0.0          1.0\n",
      "422          0.0          1.0\n",
      "426          0.0          1.0\n",
      "...          ...          ...\n",
      "119026       0.0          1.0\n",
      "119027       0.0          1.0\n",
      "119033       0.0          1.0\n",
      "119036       0.0          1.0\n",
      "119037       0.0          1.0\n",
      "\n",
      "[24058 rows x 2 columns]\n"
     ]
    }
   ],
   "source": [
    "print(Y)"
   ]
  },
  {
   "cell_type": "markdown",
   "metadata": {},
   "source": [
    "## Splitting the Data"
   ]
  },
  {
   "cell_type": "code",
   "execution_count": 68,
   "metadata": {},
   "outputs": [],
   "source": [
    "from sklearn.model_selection import train_test_split\n",
    "\n",
    "X_train, X_test, Y_train, Y_test = train_test_split(X, Y, test_size=0.3, random_state=42)"
   ]
  },
  {
   "cell_type": "code",
   "execution_count": 69,
   "metadata": {},
   "outputs": [],
   "source": [
    "snowfall_train, poor_weather_train = np.hsplit(Y_train, 2)\n",
    "snowfall_test, poor_weather_test = np.hsplit(Y_test, 2)"
   ]
  },
  {
   "cell_type": "code",
   "execution_count": 70,
   "metadata": {},
   "outputs": [
    {
     "name": "stdout",
     "output_type": "stream",
     "text": [
      "(16840, 6)\n",
      "(7218, 6)\n",
      "(16840, 2)\n",
      "(7218, 2)\n"
     ]
    }
   ],
   "source": [
    "print(X_train.shape)\n",
    "print(X_test.shape)\n",
    "print(Y_train.shape)\n",
    "print(Y_test.shape)"
   ]
  },
  {
   "cell_type": "code",
   "execution_count": 71,
   "metadata": {},
   "outputs": [
    {
     "name": "stdout",
     "output_type": "stream",
     "text": [
      "23535\n",
      "523\n",
      "825\n",
      "23233\n"
     ]
    }
   ],
   "source": [
    "print(len(dataset.loc[dataset['Snowfall']==0].index))\n",
    "print(len(dataset.loc[dataset['Snowfall']==1].index))\n",
    "print(len(dataset.loc[dataset['PoorWeather']==0].index))\n",
    "print(len(dataset.loc[dataset['PoorWeather']==1].index))"
   ]
  },
  {
   "cell_type": "markdown",
   "metadata": {},
   "source": [
    "###  naive bayes"
   ]
  },
  {
   "cell_type": "code",
   "execution_count": 72,
   "metadata": {},
   "outputs": [
    {
     "data": {
      "text/html": [
       "<div>\n",
       "<style scoped>\n",
       "    .dataframe tbody tr th:only-of-type {\n",
       "        vertical-align: middle;\n",
       "    }\n",
       "\n",
       "    .dataframe tbody tr th {\n",
       "        vertical-align: top;\n",
       "    }\n",
       "\n",
       "    .dataframe thead th {\n",
       "        text-align: right;\n",
       "    }\n",
       "</style>\n",
       "<table border=\"1\" class=\"dataframe\">\n",
       "  <thead>\n",
       "    <tr style=\"text-align: right;\">\n",
       "      <th></th>\n",
       "      <th>Precip</th>\n",
       "      <th>MeanTemp</th>\n",
       "      <th>Snowfall</th>\n",
       "      <th>PoorWeather</th>\n",
       "      <th>YR</th>\n",
       "      <th>MO</th>\n",
       "      <th>DA</th>\n",
       "      <th>ELEV</th>\n",
       "    </tr>\n",
       "  </thead>\n",
       "  <tbody>\n",
       "    <tr>\n",
       "      <th>403</th>\n",
       "      <td>0.254</td>\n",
       "      <td>22.777778</td>\n",
       "      <td>0.0</td>\n",
       "      <td>1.0</td>\n",
       "      <td>43</td>\n",
       "      <td>8</td>\n",
       "      <td>8</td>\n",
       "      <td>62</td>\n",
       "    </tr>\n",
       "    <tr>\n",
       "      <th>420</th>\n",
       "      <td>1.778</td>\n",
       "      <td>22.777778</td>\n",
       "      <td>0.0</td>\n",
       "      <td>1.0</td>\n",
       "      <td>43</td>\n",
       "      <td>8</td>\n",
       "      <td>25</td>\n",
       "      <td>62</td>\n",
       "    </tr>\n",
       "    <tr>\n",
       "      <th>421</th>\n",
       "      <td>2.540</td>\n",
       "      <td>23.333333</td>\n",
       "      <td>0.0</td>\n",
       "      <td>1.0</td>\n",
       "      <td>43</td>\n",
       "      <td>8</td>\n",
       "      <td>26</td>\n",
       "      <td>62</td>\n",
       "    </tr>\n",
       "    <tr>\n",
       "      <th>422</th>\n",
       "      <td>0.508</td>\n",
       "      <td>22.777778</td>\n",
       "      <td>0.0</td>\n",
       "      <td>1.0</td>\n",
       "      <td>43</td>\n",
       "      <td>8</td>\n",
       "      <td>27</td>\n",
       "      <td>62</td>\n",
       "    </tr>\n",
       "    <tr>\n",
       "      <th>426</th>\n",
       "      <td>1.016</td>\n",
       "      <td>23.888889</td>\n",
       "      <td>0.0</td>\n",
       "      <td>1.0</td>\n",
       "      <td>43</td>\n",
       "      <td>8</td>\n",
       "      <td>31</td>\n",
       "      <td>62</td>\n",
       "    </tr>\n",
       "  </tbody>\n",
       "</table>\n",
       "</div>"
      ],
      "text/plain": [
       "     Precip   MeanTemp  Snowfall  PoorWeather  YR  MO  DA  ELEV\n",
       "403   0.254  22.777778       0.0          1.0  43   8   8    62\n",
       "420   1.778  22.777778       0.0          1.0  43   8  25    62\n",
       "421   2.540  23.333333       0.0          1.0  43   8  26    62\n",
       "422   0.508  22.777778       0.0          1.0  43   8  27    62\n",
       "426   1.016  23.888889       0.0          1.0  43   8  31    62"
      ]
     },
     "execution_count": 72,
     "metadata": {},
     "output_type": "execute_result"
    }
   ],
   "source": [
    "dataset.head()"
   ]
  },
  {
   "cell_type": "code",
   "execution_count": 73,
   "metadata": {},
   "outputs": [],
   "source": [
    "from sklearn.naive_bayes import GaussianNB\n",
    "nb_model_snowfall = GaussianNB()\n",
    "nb_model_poor_weather = GaussianNB()"
   ]
  },
  {
   "cell_type": "markdown",
   "metadata": {},
   "source": [
    "## For Snowfall"
   ]
  },
  {
   "cell_type": "code",
   "execution_count": 74,
   "metadata": {},
   "outputs": [
    {
     "data": {
      "text/html": [
       "<style>#sk-container-id-1 {color: black;background-color: white;}#sk-container-id-1 pre{padding: 0;}#sk-container-id-1 div.sk-toggleable {background-color: white;}#sk-container-id-1 label.sk-toggleable__label {cursor: pointer;display: block;width: 100%;margin-bottom: 0;padding: 0.3em;box-sizing: border-box;text-align: center;}#sk-container-id-1 label.sk-toggleable__label-arrow:before {content: \"▸\";float: left;margin-right: 0.25em;color: #696969;}#sk-container-id-1 label.sk-toggleable__label-arrow:hover:before {color: black;}#sk-container-id-1 div.sk-estimator:hover label.sk-toggleable__label-arrow:before {color: black;}#sk-container-id-1 div.sk-toggleable__content {max-height: 0;max-width: 0;overflow: hidden;text-align: left;background-color: #f0f8ff;}#sk-container-id-1 div.sk-toggleable__content pre {margin: 0.2em;color: black;border-radius: 0.25em;background-color: #f0f8ff;}#sk-container-id-1 input.sk-toggleable__control:checked~div.sk-toggleable__content {max-height: 200px;max-width: 100%;overflow: auto;}#sk-container-id-1 input.sk-toggleable__control:checked~label.sk-toggleable__label-arrow:before {content: \"▾\";}#sk-container-id-1 div.sk-estimator input.sk-toggleable__control:checked~label.sk-toggleable__label {background-color: #d4ebff;}#sk-container-id-1 div.sk-label input.sk-toggleable__control:checked~label.sk-toggleable__label {background-color: #d4ebff;}#sk-container-id-1 input.sk-hidden--visually {border: 0;clip: rect(1px 1px 1px 1px);clip: rect(1px, 1px, 1px, 1px);height: 1px;margin: -1px;overflow: hidden;padding: 0;position: absolute;width: 1px;}#sk-container-id-1 div.sk-estimator {font-family: monospace;background-color: #f0f8ff;border: 1px dotted black;border-radius: 0.25em;box-sizing: border-box;margin-bottom: 0.5em;}#sk-container-id-1 div.sk-estimator:hover {background-color: #d4ebff;}#sk-container-id-1 div.sk-parallel-item::after {content: \"\";width: 100%;border-bottom: 1px solid gray;flex-grow: 1;}#sk-container-id-1 div.sk-label:hover label.sk-toggleable__label {background-color: #d4ebff;}#sk-container-id-1 div.sk-serial::before {content: \"\";position: absolute;border-left: 1px solid gray;box-sizing: border-box;top: 0;bottom: 0;left: 50%;z-index: 0;}#sk-container-id-1 div.sk-serial {display: flex;flex-direction: column;align-items: center;background-color: white;padding-right: 0.2em;padding-left: 0.2em;position: relative;}#sk-container-id-1 div.sk-item {position: relative;z-index: 1;}#sk-container-id-1 div.sk-parallel {display: flex;align-items: stretch;justify-content: center;background-color: white;position: relative;}#sk-container-id-1 div.sk-item::before, #sk-container-id-1 div.sk-parallel-item::before {content: \"\";position: absolute;border-left: 1px solid gray;box-sizing: border-box;top: 0;bottom: 0;left: 50%;z-index: -1;}#sk-container-id-1 div.sk-parallel-item {display: flex;flex-direction: column;z-index: 1;position: relative;background-color: white;}#sk-container-id-1 div.sk-parallel-item:first-child::after {align-self: flex-end;width: 50%;}#sk-container-id-1 div.sk-parallel-item:last-child::after {align-self: flex-start;width: 50%;}#sk-container-id-1 div.sk-parallel-item:only-child::after {width: 0;}#sk-container-id-1 div.sk-dashed-wrapped {border: 1px dashed gray;margin: 0 0.4em 0.5em 0.4em;box-sizing: border-box;padding-bottom: 0.4em;background-color: white;}#sk-container-id-1 div.sk-label label {font-family: monospace;font-weight: bold;display: inline-block;line-height: 1.2em;}#sk-container-id-1 div.sk-label-container {text-align: center;}#sk-container-id-1 div.sk-container {/* jupyter's `normalize.less` sets `[hidden] { display: none; }` but bootstrap.min.css set `[hidden] { display: none !important; }` so we also need the `!important` here to be able to override the default hidden behavior on the sphinx rendered scikit-learn.org. See: https://github.com/scikit-learn/scikit-learn/issues/21755 */display: inline-block !important;position: relative;}#sk-container-id-1 div.sk-text-repr-fallback {display: none;}</style><div id=\"sk-container-id-1\" class=\"sk-top-container\"><div class=\"sk-text-repr-fallback\"><pre>GaussianNB()</pre><b>In a Jupyter environment, please rerun this cell to show the HTML representation or trust the notebook. <br />On GitHub, the HTML representation is unable to render, please try loading this page with nbviewer.org.</b></div><div class=\"sk-container\" hidden><div class=\"sk-item\"><div class=\"sk-estimator sk-toggleable\"><input class=\"sk-toggleable__control sk-hidden--visually\" id=\"sk-estimator-id-1\" type=\"checkbox\" checked><label for=\"sk-estimator-id-1\" class=\"sk-toggleable__label sk-toggleable__label-arrow\">GaussianNB</label><div class=\"sk-toggleable__content\"><pre>GaussianNB()</pre></div></div></div></div></div>"
      ],
      "text/plain": [
       "GaussianNB()"
      ]
     },
     "execution_count": 74,
     "metadata": {},
     "output_type": "execute_result"
    }
   ],
   "source": [
    "nb_model_snowfall.fit(X_train, np.ravel(snowfall_train).reshape(-1))"
   ]
  },
  {
   "cell_type": "code",
   "execution_count": 75,
   "metadata": {},
   "outputs": [],
   "source": [
    "snowfall_train_predict = nb_model_snowfall.predict(X_train)\n",
    "snowfall_test_predict = nb_model_snowfall.predict(X_test)"
   ]
  },
  {
   "cell_type": "code",
   "execution_count": 76,
   "metadata": {},
   "outputs": [
    {
     "data": {
      "text/plain": [
       "array([1., 0., 0., ..., 0., 0., 1.])"
      ]
     },
     "execution_count": 76,
     "metadata": {},
     "output_type": "execute_result"
    }
   ],
   "source": [
    "snowfall_test_predict"
   ]
  },
  {
   "cell_type": "code",
   "execution_count": 176,
   "metadata": {},
   "outputs": [
    {
     "data": {
      "text/html": [
       "<div>\n",
       "<style scoped>\n",
       "    .dataframe tbody tr th:only-of-type {\n",
       "        vertical-align: middle;\n",
       "    }\n",
       "\n",
       "    .dataframe tbody tr th {\n",
       "        vertical-align: top;\n",
       "    }\n",
       "\n",
       "    .dataframe thead th {\n",
       "        text-align: right;\n",
       "    }\n",
       "</style>\n",
       "<table border=\"1\" class=\"dataframe\">\n",
       "  <thead>\n",
       "    <tr style=\"text-align: right;\">\n",
       "      <th></th>\n",
       "      <th>Precip</th>\n",
       "      <th>MeanTemp</th>\n",
       "      <th>YR</th>\n",
       "      <th>MO</th>\n",
       "      <th>DA</th>\n",
       "      <th>ELEV</th>\n",
       "    </tr>\n",
       "  </thead>\n",
       "  <tbody>\n",
       "    <tr>\n",
       "      <th>46089</th>\n",
       "      <td>4.064</td>\n",
       "      <td>-3.333333</td>\n",
       "      <td>43</td>\n",
       "      <td>11</td>\n",
       "      <td>30</td>\n",
       "      <td>11</td>\n",
       "    </tr>\n",
       "    <tr>\n",
       "      <th>13095</th>\n",
       "      <td>30.480</td>\n",
       "      <td>26.666667</td>\n",
       "      <td>44</td>\n",
       "      <td>8</td>\n",
       "      <td>21</td>\n",
       "      <td>14</td>\n",
       "    </tr>\n",
       "    <tr>\n",
       "      <th>101528</th>\n",
       "      <td>0.254</td>\n",
       "      <td>26.666667</td>\n",
       "      <td>44</td>\n",
       "      <td>8</td>\n",
       "      <td>25</td>\n",
       "      <td>13</td>\n",
       "    </tr>\n",
       "    <tr>\n",
       "      <th>69116</th>\n",
       "      <td>0.000</td>\n",
       "      <td>20.555556</td>\n",
       "      <td>43</td>\n",
       "      <td>12</td>\n",
       "      <td>12</td>\n",
       "      <td>21</td>\n",
       "    </tr>\n",
       "    <tr>\n",
       "      <th>52201</th>\n",
       "      <td>4.318</td>\n",
       "      <td>24.444444</td>\n",
       "      <td>45</td>\n",
       "      <td>8</td>\n",
       "      <td>5</td>\n",
       "      <td>11</td>\n",
       "    </tr>\n",
       "    <tr>\n",
       "      <th>...</th>\n",
       "      <td>...</td>\n",
       "      <td>...</td>\n",
       "      <td>...</td>\n",
       "      <td>...</td>\n",
       "      <td>...</td>\n",
       "      <td>...</td>\n",
       "    </tr>\n",
       "    <tr>\n",
       "      <th>4823</th>\n",
       "      <td>12.954</td>\n",
       "      <td>24.444444</td>\n",
       "      <td>44</td>\n",
       "      <td>1</td>\n",
       "      <td>3</td>\n",
       "      <td>29</td>\n",
       "    </tr>\n",
       "    <tr>\n",
       "      <th>24905</th>\n",
       "      <td>1.524</td>\n",
       "      <td>27.777778</td>\n",
       "      <td>43</td>\n",
       "      <td>9</td>\n",
       "      <td>10</td>\n",
       "      <td>41</td>\n",
       "    </tr>\n",
       "    <tr>\n",
       "      <th>37165</th>\n",
       "      <td>3.302</td>\n",
       "      <td>27.777778</td>\n",
       "      <td>45</td>\n",
       "      <td>9</td>\n",
       "      <td>13</td>\n",
       "      <td>48</td>\n",
       "    </tr>\n",
       "    <tr>\n",
       "      <th>22746</th>\n",
       "      <td>2.540</td>\n",
       "      <td>26.666667</td>\n",
       "      <td>45</td>\n",
       "      <td>7</td>\n",
       "      <td>31</td>\n",
       "      <td>10</td>\n",
       "    </tr>\n",
       "    <tr>\n",
       "      <th>47579</th>\n",
       "      <td>7.112</td>\n",
       "      <td>-2.777778</td>\n",
       "      <td>44</td>\n",
       "      <td>5</td>\n",
       "      <td>2</td>\n",
       "      <td>62</td>\n",
       "    </tr>\n",
       "  </tbody>\n",
       "</table>\n",
       "<p>7218 rows × 6 columns</p>\n",
       "</div>"
      ],
      "text/plain": [
       "        Precip   MeanTemp  YR  MO  DA  ELEV\n",
       "46089    4.064  -3.333333  43  11  30    11\n",
       "13095   30.480  26.666667  44   8  21    14\n",
       "101528   0.254  26.666667  44   8  25    13\n",
       "69116    0.000  20.555556  43  12  12    21\n",
       "52201    4.318  24.444444  45   8   5    11\n",
       "...        ...        ...  ..  ..  ..   ...\n",
       "4823    12.954  24.444444  44   1   3    29\n",
       "24905    1.524  27.777778  43   9  10    41\n",
       "37165    3.302  27.777778  45   9  13    48\n",
       "22746    2.540  26.666667  45   7  31    10\n",
       "47579    7.112  -2.777778  44   5   2    62\n",
       "\n",
       "[7218 rows x 6 columns]"
      ]
     },
     "execution_count": 176,
     "metadata": {},
     "output_type": "execute_result"
    }
   ],
   "source": [
    "X_test"
   ]
  },
  {
   "cell_type": "code",
   "execution_count": 177,
   "metadata": {},
   "outputs": [
    {
     "name": "stderr",
     "output_type": "stream",
     "text": [
      "C:\\Users\\Prem Kumar\\AppData\\Local\\Programs\\Python\\Python310\\lib\\site-packages\\sklearn\\base.py:450: UserWarning: X does not have valid feature names, but GaussianNB was fitted with feature names\n",
      "  warnings.warn(\n"
     ]
    }
   ],
   "source": [
    "prediction = nb_model_snowfall.predict(np.array([[1.524,-2.22,43,12,20,50]]))"
   ]
  },
  {
   "cell_type": "code",
   "execution_count": 178,
   "metadata": {},
   "outputs": [
    {
     "data": {
      "text/plain": [
       "array([1.])"
      ]
     },
     "execution_count": 178,
     "metadata": {},
     "output_type": "execute_result"
    }
   ],
   "source": [
    "prediction"
   ]
  },
  {
   "cell_type": "code",
   "execution_count": null,
   "metadata": {},
   "outputs": [],
   "source": []
  },
  {
   "cell_type": "code",
   "execution_count": 79,
   "metadata": {},
   "outputs": [
    {
     "name": "stdout",
     "output_type": "stream",
     "text": [
      "Training Data: 0.9581947743467933\n",
      "Confusion Matrix \n",
      "[[15788   683]\n",
      " [   21   348]]\n"
     ]
    }
   ],
   "source": [
    "# Training Data\n",
    "\n",
    "print(\"Training Data: \" + str(accuracy_score(snowfall_train, snowfall_train_predict)))\n",
    "print(\"Confusion Matrix \\n\" + str(confusion_matrix(snowfall_train, snowfall_train_predict)))"
   ]
  },
  {
   "cell_type": "code",
   "execution_count": 80,
   "metadata": {},
   "outputs": [
    {
     "name": "stdout",
     "output_type": "stream",
     "text": [
      "Test Data: 0.9520642837351067\n",
      "Confusion Matrix \n",
      "[[6725  339]\n",
      " [   7  147]]\n"
     ]
    }
   ],
   "source": [
    "# Test Data\n",
    "\n",
    "print(\"Test Data: \" + str(accuracy_score(snowfall_test, snowfall_test_predict)))\n",
    "print(\"Confusion Matrix \\n\" + str(confusion_matrix(snowfall_test, snowfall_test_predict)))"
   ]
  },
  {
   "cell_type": "markdown",
   "metadata": {},
   "source": [
    "## For PoorWeather"
   ]
  },
  {
   "cell_type": "code",
   "execution_count": 81,
   "metadata": {},
   "outputs": [
    {
     "data": {
      "text/html": [
       "<style>#sk-container-id-2 {color: black;background-color: white;}#sk-container-id-2 pre{padding: 0;}#sk-container-id-2 div.sk-toggleable {background-color: white;}#sk-container-id-2 label.sk-toggleable__label {cursor: pointer;display: block;width: 100%;margin-bottom: 0;padding: 0.3em;box-sizing: border-box;text-align: center;}#sk-container-id-2 label.sk-toggleable__label-arrow:before {content: \"▸\";float: left;margin-right: 0.25em;color: #696969;}#sk-container-id-2 label.sk-toggleable__label-arrow:hover:before {color: black;}#sk-container-id-2 div.sk-estimator:hover label.sk-toggleable__label-arrow:before {color: black;}#sk-container-id-2 div.sk-toggleable__content {max-height: 0;max-width: 0;overflow: hidden;text-align: left;background-color: #f0f8ff;}#sk-container-id-2 div.sk-toggleable__content pre {margin: 0.2em;color: black;border-radius: 0.25em;background-color: #f0f8ff;}#sk-container-id-2 input.sk-toggleable__control:checked~div.sk-toggleable__content {max-height: 200px;max-width: 100%;overflow: auto;}#sk-container-id-2 input.sk-toggleable__control:checked~label.sk-toggleable__label-arrow:before {content: \"▾\";}#sk-container-id-2 div.sk-estimator input.sk-toggleable__control:checked~label.sk-toggleable__label {background-color: #d4ebff;}#sk-container-id-2 div.sk-label input.sk-toggleable__control:checked~label.sk-toggleable__label {background-color: #d4ebff;}#sk-container-id-2 input.sk-hidden--visually {border: 0;clip: rect(1px 1px 1px 1px);clip: rect(1px, 1px, 1px, 1px);height: 1px;margin: -1px;overflow: hidden;padding: 0;position: absolute;width: 1px;}#sk-container-id-2 div.sk-estimator {font-family: monospace;background-color: #f0f8ff;border: 1px dotted black;border-radius: 0.25em;box-sizing: border-box;margin-bottom: 0.5em;}#sk-container-id-2 div.sk-estimator:hover {background-color: #d4ebff;}#sk-container-id-2 div.sk-parallel-item::after {content: \"\";width: 100%;border-bottom: 1px solid gray;flex-grow: 1;}#sk-container-id-2 div.sk-label:hover label.sk-toggleable__label {background-color: #d4ebff;}#sk-container-id-2 div.sk-serial::before {content: \"\";position: absolute;border-left: 1px solid gray;box-sizing: border-box;top: 0;bottom: 0;left: 50%;z-index: 0;}#sk-container-id-2 div.sk-serial {display: flex;flex-direction: column;align-items: center;background-color: white;padding-right: 0.2em;padding-left: 0.2em;position: relative;}#sk-container-id-2 div.sk-item {position: relative;z-index: 1;}#sk-container-id-2 div.sk-parallel {display: flex;align-items: stretch;justify-content: center;background-color: white;position: relative;}#sk-container-id-2 div.sk-item::before, #sk-container-id-2 div.sk-parallel-item::before {content: \"\";position: absolute;border-left: 1px solid gray;box-sizing: border-box;top: 0;bottom: 0;left: 50%;z-index: -1;}#sk-container-id-2 div.sk-parallel-item {display: flex;flex-direction: column;z-index: 1;position: relative;background-color: white;}#sk-container-id-2 div.sk-parallel-item:first-child::after {align-self: flex-end;width: 50%;}#sk-container-id-2 div.sk-parallel-item:last-child::after {align-self: flex-start;width: 50%;}#sk-container-id-2 div.sk-parallel-item:only-child::after {width: 0;}#sk-container-id-2 div.sk-dashed-wrapped {border: 1px dashed gray;margin: 0 0.4em 0.5em 0.4em;box-sizing: border-box;padding-bottom: 0.4em;background-color: white;}#sk-container-id-2 div.sk-label label {font-family: monospace;font-weight: bold;display: inline-block;line-height: 1.2em;}#sk-container-id-2 div.sk-label-container {text-align: center;}#sk-container-id-2 div.sk-container {/* jupyter's `normalize.less` sets `[hidden] { display: none; }` but bootstrap.min.css set `[hidden] { display: none !important; }` so we also need the `!important` here to be able to override the default hidden behavior on the sphinx rendered scikit-learn.org. See: https://github.com/scikit-learn/scikit-learn/issues/21755 */display: inline-block !important;position: relative;}#sk-container-id-2 div.sk-text-repr-fallback {display: none;}</style><div id=\"sk-container-id-2\" class=\"sk-top-container\"><div class=\"sk-text-repr-fallback\"><pre>GaussianNB()</pre><b>In a Jupyter environment, please rerun this cell to show the HTML representation or trust the notebook. <br />On GitHub, the HTML representation is unable to render, please try loading this page with nbviewer.org.</b></div><div class=\"sk-container\" hidden><div class=\"sk-item\"><div class=\"sk-estimator sk-toggleable\"><input class=\"sk-toggleable__control sk-hidden--visually\" id=\"sk-estimator-id-2\" type=\"checkbox\" checked><label for=\"sk-estimator-id-2\" class=\"sk-toggleable__label sk-toggleable__label-arrow\">GaussianNB</label><div class=\"sk-toggleable__content\"><pre>GaussianNB()</pre></div></div></div></div></div>"
      ],
      "text/plain": [
       "GaussianNB()"
      ]
     },
     "execution_count": 81,
     "metadata": {},
     "output_type": "execute_result"
    }
   ],
   "source": [
    "nb_model_poor_weather.fit(X_train,np.ravel(poor_weather_train).reshape(-1))"
   ]
  },
  {
   "cell_type": "code",
   "execution_count": 82,
   "metadata": {},
   "outputs": [],
   "source": [
    "poor_weather_train_predict = nb_model_poor_weather.predict(X_train)\n",
    "poor_weather_test_predict = nb_model_poor_weather.predict(X_test)"
   ]
  },
  {
   "cell_type": "code",
   "execution_count": 83,
   "metadata": {},
   "outputs": [
    {
     "data": {
      "text/plain": [
       "array([1., 1., 1., ..., 1., 1., 1.])"
      ]
     },
     "execution_count": 83,
     "metadata": {},
     "output_type": "execute_result"
    }
   ],
   "source": [
    "poor_weather_test_predict"
   ]
  },
  {
   "cell_type": "code",
   "execution_count": 84,
   "metadata": {},
   "outputs": [
    {
     "name": "stderr",
     "output_type": "stream",
     "text": [
      "C:\\Users\\Prem Kumar\\AppData\\Local\\Programs\\Python\\Python310\\lib\\site-packages\\sklearn\\base.py:450: UserWarning: X does not have valid feature names, but GaussianNB was fitted with feature names\n",
      "  warnings.warn(\n"
     ]
    }
   ],
   "source": [
    "prediction = nb_model_poor_weather.predict(np.array([[1.016,23.888889,43,8,31,62]]))"
   ]
  },
  {
   "cell_type": "code",
   "execution_count": 85,
   "metadata": {},
   "outputs": [],
   "source": [
    "result=prediction[0]"
   ]
  },
  {
   "cell_type": "code",
   "execution_count": 86,
   "metadata": {},
   "outputs": [
    {
     "data": {
      "text/plain": [
       "1.0"
      ]
     },
     "execution_count": 86,
     "metadata": {},
     "output_type": "execute_result"
    }
   ],
   "source": [
    "result"
   ]
  },
  {
   "cell_type": "code",
   "execution_count": 87,
   "metadata": {},
   "outputs": [
    {
     "name": "stdout",
     "output_type": "stream",
     "text": [
      "Weather is poor\n"
     ]
    }
   ],
   "source": [
    "if result == 1:\n",
    "    print(\"Weather is poor\")\n",
    "else:\n",
    "    print(\"Weather is not poor\")"
   ]
  },
  {
   "cell_type": "code",
   "execution_count": 88,
   "metadata": {},
   "outputs": [],
   "source": [
    "import joblib"
   ]
  },
  {
   "cell_type": "code",
   "execution_count": 89,
   "metadata": {},
   "outputs": [
    {
     "data": {
      "text/plain": [
       "['snowfall_prediction.pkl']"
      ]
     },
     "execution_count": 89,
     "metadata": {},
     "output_type": "execute_result"
    }
   ],
   "source": [
    "joblib.dump(nb_model_snowfall,\"snowfall_prediction.pkl\")"
   ]
  },
  {
   "cell_type": "code",
   "execution_count": 90,
   "metadata": {},
   "outputs": [],
   "source": [
    "nb_model_snowfall = joblib.load(\"snowfall_prediction.pkl\")"
   ]
  },
  {
   "cell_type": "code",
   "execution_count": null,
   "metadata": {},
   "outputs": [],
   "source": []
  },
  {
   "cell_type": "code",
   "execution_count": 91,
   "metadata": {},
   "outputs": [
    {
     "name": "stdout",
     "output_type": "stream",
     "text": [
      "Training Data: 0.9039192399049881\n",
      "Confusion Matrix \n",
      "[[  562     0]\n",
      " [ 1618 14660]]\n"
     ]
    }
   ],
   "source": [
    "# Training Data\n",
    "\n",
    "print(\"Training Data: \" + str(accuracy_score(poor_weather_train, poor_weather_train_predict)))\n",
    "print(\"Confusion Matrix \\n\" + str(confusion_matrix(poor_weather_train, poor_weather_train_predict)))"
   ]
  },
  {
   "cell_type": "code",
   "execution_count": 92,
   "metadata": {},
   "outputs": [
    {
     "name": "stdout",
     "output_type": "stream",
     "text": [
      "Test Data: 0.9131338320864505\n",
      "Confusion Matrix \n",
      "[[ 263    0]\n",
      " [ 627 6328]]\n"
     ]
    }
   ],
   "source": [
    "# Test Data\n",
    "\n",
    "print(\"Test Data: \" + str(accuracy_score(poor_weather_test, poor_weather_test_predict)))\n",
    "print(\"Confusion Matrix \\n\" + str(confusion_matrix(poor_weather_test, poor_weather_test_predict)))"
   ]
  },
  {
   "cell_type": "code",
   "execution_count": null,
   "metadata": {},
   "outputs": [],
   "source": []
  },
  {
   "cell_type": "code",
   "execution_count": null,
   "metadata": {},
   "outputs": [],
   "source": []
  },
  {
   "cell_type": "code",
   "execution_count": null,
   "metadata": {},
   "outputs": [],
   "source": []
  },
  {
   "cell_type": "code",
   "execution_count": null,
   "metadata": {},
   "outputs": [],
   "source": []
  },
  {
   "cell_type": "code",
   "execution_count": null,
   "metadata": {},
   "outputs": [],
   "source": []
  }
 ],
 "metadata": {
  "kernelspec": {
   "display_name": "Python 3 (ipykernel)",
   "language": "python",
   "name": "python3"
  },
  "language_info": {
   "codemirror_mode": {
    "name": "ipython",
    "version": 3
   },
   "file_extension": ".py",
   "mimetype": "text/x-python",
   "name": "python",
   "nbconvert_exporter": "python",
   "pygments_lexer": "ipython3",
   "version": "3.10.5"
  }
 },
 "nbformat": 4,
 "nbformat_minor": 4
}
